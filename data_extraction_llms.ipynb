{
 "cells": [
  {
   "cell_type": "code",
   "execution_count": 3,
   "metadata": {},
   "outputs": [],
   "source": [
    "!pip3 install --upgrade --quiet langchain langchain-community langchain-openai chromadb \n",
    "!pip3 install --upgrade --quiet pypdf pandas streamlit python-dotenv"
   ]
  },
  {
   "cell_type": "code",
   "execution_count": 4,
   "metadata": {},
   "outputs": [
    {
     "name": "stderr",
     "output_type": "stream",
     "text": [
      "c:\\Users\\mihir\\Documents\\Oxford Physics\\Superconductors\\MPhys\\Python\\.venv\\Lib\\site-packages\\IPython\\core\\interactiveshell.py:3577: LangChainDeprecationWarning: As of langchain-core 0.3.0, LangChain uses pydantic v2 internally. The langchain_core.pydantic_v1 module was a compatibility shim for pydantic v1, and should no longer be used. Please update the code to import from Pydantic directly.\n",
      "\n",
      "For example, replace imports like: `from langchain_core.pydantic_v1 import BaseModel`\n",
      "with: `from pydantic import BaseModel`\n",
      "or the v1 compatibility namespace if you are working in a code base that has not been fully upgraded to pydantic 2 yet. \tfrom pydantic.v1 import BaseModel\n",
      "\n",
      "  exec(code_obj, self.user_global_ns, self.user_ns)\n"
     ]
    }
   ],
   "source": [
    "# Import Langchain modules\n",
    "from langchain.document_loaders import PyPDFLoader\n",
    "from langchain.text_splitter import RecursiveCharacterTextSplitter\n",
    "from langchain_openai import OpenAIEmbeddings, ChatOpenAI\n",
    "from langchain.vectorstores import Chroma\n",
    "from langchain_core.runnables import RunnablePassthrough\n",
    "from langchain_core.prompts import ChatPromptTemplate\n",
    "from langchain_core.pydantic_v1 import BaseModel, Field\n",
    "\n",
    "# Other modules and packages\n",
    "import os\n",
    "import tempfile\n",
    "import streamlit as st  \n",
    "import pandas as pd\n",
    "from dotenv import load_dotenv"
   ]
  },
  {
   "cell_type": "code",
   "execution_count": 5,
   "metadata": {},
   "outputs": [
    {
     "data": {
      "text/plain": [
       "True"
      ]
     },
     "execution_count": 5,
     "metadata": {},
     "output_type": "execute_result"
    }
   ],
   "source": [
    "load_dotenv()"
   ]
  },
  {
   "cell_type": "code",
   "execution_count": 6,
   "metadata": {},
   "outputs": [],
   "source": [
    "OPENAI_API_KEY = os.environ.get(\"OPENAI_API_KEY\")"
   ]
  },
  {
   "cell_type": "markdown",
   "metadata": {},
   "source": [
    "## Define our LLM"
   ]
  },
  {
   "cell_type": "code",
   "execution_count": 8,
   "metadata": {},
   "outputs": [
    {
     "data": {
      "text/plain": [
       "AIMessage(content='Why was the cat sitting on the computer?\\n\\nBecause it wanted to keep an eye on the mouse!', additional_kwargs={'refusal': None}, response_metadata={'token_usage': {'completion_tokens': 20, 'prompt_tokens': 13, 'total_tokens': 33, 'completion_tokens_details': {'audio_tokens': None, 'reasoning_tokens': 0}, 'prompt_tokens_details': {'audio_tokens': None, 'cached_tokens': 0}}, 'model_name': 'gpt-4o-mini-2024-07-18', 'system_fingerprint': 'fp_482c22a7bc', 'finish_reason': 'stop', 'logprobs': None}, id='run-53758b6b-a8e7-4b31-b074-d13cdf6aba00-0', usage_metadata={'input_tokens': 13, 'output_tokens': 20, 'total_tokens': 33, 'input_token_details': {'cache_read': 0}, 'output_token_details': {'reasoning': 0}})"
      ]
     },
     "execution_count": 8,
     "metadata": {},
     "output_type": "execute_result"
    }
   ],
   "source": [
    "llm = ChatOpenAI(model=\"gpt-4o-mini\", api_key=OPENAI_API_KEY)\n",
    "llm.invoke(\"Tell me a joke about cats\")"
   ]
  },
  {
   "cell_type": "markdown",
   "metadata": {},
   "source": [
    "## Process PDF document"
   ]
  },
  {
   "cell_type": "markdown",
   "metadata": {},
   "source": [
    "### Load PDF document"
   ]
  },
  {
   "cell_type": "code",
   "execution_count": 17,
   "metadata": {},
   "outputs": [],
   "source": [
    "!pip3 install --upgrade --quiet rapidocr-onnxruntime"
   ]
  },
  {
   "cell_type": "code",
   "execution_count": 114,
   "metadata": {},
   "outputs": [
    {
     "data": {
      "text/plain": [
       "[Document(metadata={'source': 'data/FeSe_strain.pdf', 'page': 0}, page_content='Evolution of pairing symmetry in FeSe 1−xSxas probed by uniaxial-strain tuning of Tc\\nRuixian Liu§,1Qi Tang§,1Chang Liu,1Chunyi Li,1Kaijuan Zhou,1Qiaoyu Wang,1and Xingye Lu1,∗\\n1Center for Advanced Quantum Studies, School of Physics and Astronomy, Beijing Normal University, Beijing, 100875, China\\n(Dated: October 18, 2024)\\nIn iron-based superconductors (FeSCs), the interplay between electronic nematicity and superconductivity\\nis essential for understanding the exotic superconducting ground state. In the nematic regime, uniaxial-strain\\n(ε) tuning of the superconducting transition temperature Tc[∆Tc(ε) =αε+βε2] offers a unique approach\\nto investigating the evolution of pairing symmetry if both sanddwave pairing instabilities are relevant. Here,\\nwe employ uniaxial strain to tune the Tcof FeSe 1−xSx, in which both nematicity and superconductivity un-\\ndergo significant changes with doping. While Tcis usually suppressed quadratically with εin optimally doped\\nBaFe 2As2,∆Tc(ε)in FeSe 1−xSxdominated by ∆Tc(ε) =βε2changes its sign from β<0in FeSe to β>0\\nin FeSe 1−xSx(x≳0.10), indicating an evolution of the pairing symmetry from an s±state towards an s+d\\nwave state. These findings highlight the ∆Tc(ε)as a powerful probe for elucidating the superconducting pairing\\nsymmetry in the nematic regime of FeSCs and provide new insights into the evolution of pairing symmetry in\\nFeSCs.\\nThe electronic nematic state is one of the most important\\nemergent orders in iron-based superconductors (FeSCs) [1–\\n3]. While the origin of this state remains debated, nematic\\nfluctuations are considered a potential pairing mechanism for\\nsuperconductivity, and electronic nematicity is thought to sig-\\nnificantly influence the superconducting properties. There-\\nfore, understanding the interplay between electronic nematic-\\nity and superconductivity is crucial for unraveling the mystery\\nof high-temperature ( Tc) superconductivity in these materials\\n[3].\\nFeSe 1−xSxis a unique system where magnetic order is ab-\\nsent, allowing nematic order and fluctuations to interact di-\\nrectly with superconductivity [3–6]. Figure 1(a) illustrates the\\nphase diagram of FeSe 1−xSx. The parent compound, FeSe,\\nundergoes a tetragonal-to-orthorhombic structural transition\\natTs≈90K, below which a C2-symmetric electronic ne-\\nmatic phase emerges, with the nematic transition temperature\\nTnem=Ts. In this nematic phase, FeSe enters a supercon-\\nducting ground state at Tc≈8K [7, 8]. Upon sulfur dop-\\ning, the orthorhombicity and nematic order are gradually sup-\\npressed and vanish around x≈0.17. Beyond this regime, ne-\\nmatic fluctuations persist over a broad range of temperatures\\nand doping levels [9, 10], becoming especially pronounced\\nnearx≈0.17, a concentration identified as the nematic quan-\\ntum critical point (NQCP) [9, 11].\\nThe Fermi surface of FeSe 1−xSxconsists of two nested\\nhole pockets at the Γpoint, along with electron pockets at\\nthe X and Y points [6]. Fermi surface nesting between elec-\\ntron pockets and central hole pockets ( Γ-X and Γ-Y) gener-\\nates stripe-type spin fluctuations at (π,0)/(0, π)[12], which\\npotentially lead to an s±-wave pairing symmetry. Addition-\\nally, the Néel-type spin fluctuations at (π, π), likely aris-\\ning from particle-hole scattering between the electron pock-\\nets located at the X and Y points (X-Y) [13–16], suggest the\\npossibility of d-wave pairing symmetry [17]. Scanning tun-\\nneling microscopy (STM) and angle-resolved photoemission\\nspectroscopy (ARPES) studies on FeSe have revealed highly\\nanisotropic superconducting gaps [18–20], which can be de-\\nscribed by an extended s+dwave gap function [19].In FeSe 1−xSx, both thermal conductivity and specific heat\\nmeasurements have revealed a pronounced change in the su-\\nperconducting gap structure near the NQCP [21]. STM inves-\\ntigations have further identified two distinct superconducting\\npairing states on either side of the NQCP, indicating a signifi-\\ncant evolution of the pairing symmetry or gap structure across\\nthis critical point [21–23]. However, despite these findings,\\nthe detailed nature of this evolution remains insufficiently ex-\\nplored.\\nWhile directly obtaining evidence for the doping evolu-\\ntion of gap symmetry in FeSe 1−xSxremains highly challeng-\\ning, the interplay between electronic nematicity and supercon-\\nductivity offers an alternative approach to address this issue.\\nTheoretically, Fernandes et al. proposed that electronic ne-\\nmaticity could be used to probe superconducting pairing in\\nFeSCs, as a d-wave instability may compete with the domi-\\nnants-wave instability, given that their free energies could be\\ncomparable [24]. By incorporating a trilinear coupling term,\\nFSC−nem∝φ∆s∆dcosθ, between nematicity ( φ) and the\\ns- and d-wave order parameters ( ∆sand∆d) in spin fluc-\\ntuation Eliashberg calculations, Ref. [24] examined the ef-\\nfects of tunable nematicity on s- and d-wave superconduc-\\ntivity. They predicted that nematicity-induced changes in Tc\\n[∆Tc(φ)] could serve as a probe to distinguish between s- and\\nd-wave pairing regimes.\\nMulticomponent superconductivity, involving a mixture of\\ns- and d-wave pairing symmetries, has recently been observed\\nin Ba(Fe 1−xCox)2As2through elastocaloric measurements\\nunder uniaxial strain, confirming the competition between s-\\nandd-wave pairing in iron-pnictide superconductors [25]. A\\nsubsequent theoretical study by Fernandes et al. suggested\\nthat similar competition is expected to occur in FeSe, leading\\nto an evolution of pairing symmetry driven by specific tuning\\nparameters. This is consistent with the anisotropic supercon-\\nducting gap and the doping-dependent evolution of the gap\\nstructure in FeSe 1−xSx[19, 21].\\nIt is well established that uniaxial strain along the tetragonal\\n[110] direction ( ε[110]) couples directly to the nematic order\\nparameter φ, making it an effective tuning parameter for elec-arXiv:2410.13319v1  [cond-mat.supr-con]  17 Oct 2024'),\n",
       " Document(metadata={'source': 'data/FeSe_strain.pdf', 'page': 1}, page_content='2\\nFIG. 1: (a) Phase diagram of FeSe 1−xSx. The horizontal axis repre-\\nsents sulfur doping concentration. Orange and blue dots indicate the\\nstructural transition Tsand superconducting transition temperature\\nTc, respectively. The inset shows a schematic of the lattice struc-\\nture in a two-iron unit cell. (b)-(c) Photographs of a thin FeSe 1−xSx\\nsingle crystal affixed on a titanium bridge. (d) The sandwich confir-\\nguration fixing the titanium platform. (e) Four-electrode method for\\nmeasuring the resistivity of strained FeSe 1−xSxcrystals. (f) Normal-\\nized resistance-temperature (RT) curves for FeSe 1−xSxwith doping\\nconcentrations x= 0, 0.10, 0.16, and 0.21. Black and green arrows\\nmark the TsandTc, respectively. (g), (h) Strain-dependent ∆R/R\\nmeasured under strains applied along the [100] or[110] directions for\\nanx= 0.10sample. Different colors correspond to different tem-\\nperatures, as indicated by the colorbar. (g) ε[110] tuning of resistance\\nandTcin FeSe.\\ntronic nematicity. In this study, we utilize precisely and con-\\ntinuously tunable uniaxial strain as a tuning parameter for Tc\\nin FeSe 1−xSx. The functional form of ∆Tc(φ)[equivalent to\\n∆Tc(ε)], dictated by the coupling FSC−nem∝φ∆s∆dcosθ,\\nallows us to unveil the evolution of underlying pairing sym-\\nmetry in the nematic regime of FeSe 1−xSx. In undoped and\\nlightly doped FeSe 1−xSx,ε[110]-induced change in Tcis dom-\\ninated by ∆Tc(ε) = βε2withβ < 0, consistent with the\\npredominant s±wave pairing. At higher doping, βstarts\\nto evolve to β > 0and∆Tc(ε)is well characterized by\\n∆Tc(ε) =−|β|ε2across the NQCP, indicating a transition\\nfrom s±pairing towards a mixed state of s±- and d-wave\\npairing instabilities. Our results confirm the role of electronic\\nnematicity as a probe for pairing symmetry and reveal thatthe pairing symmetry in FeSe 1−xSxevolves because of the\\ncompetition between s- and d-wave pairing instability in this\\nsystem, highlighting the need for further spectroscopic studies\\nunder uniaxial strain.\\n0.10\\n 0.10\\n FeSe\\n051015nem\\n00.51(nem-0\\nnem)-1 0102030\\n00.2020406080\\n00.05\\n0510152025\\n00.05050100\\n100 150 200\\nT (K)00.010.21ε[110]\\n50 0 100 150 200\\nT (K)50 0100 150 200\\nT (K)50 0 100 150 200\\nT (K)50 0 100 150 200\\nT (K)50 0(a) (b) (c)\\n(d)ε[100]ε[100]\\nε[100]nem (nem-0\\nnem)-1\\n0.020.21ε[110]\\n(e)\\n0 0.05 0.1 0.15 0.2020406080100\\nxȺmax\\nȺmax[100]Ⱥmax[110](f)\\nFIG. 2: Nematic susceptibility χnem(T)extracted from elastoresis-\\ntance measurements [28]. The red solid lines are Curie-Weiss fitting\\nχnem(T) =λ\\na(T−T∗)+χ0. The linear dependence regions in the\\nlower panels show the quality of the fitting. The red dots on the ho-\\nrionzontal axis indicate the fitted T∗>0, while the red dots on the\\nvertical axis in (d) and (e) indicate T∗<0. (f) Maximum values\\nof nematic susceptibility measured under different strain directions.\\nThe red triangles represent strain applied along the [110] direction,\\nwhile the green dots correspond to strain in the [100] direction. A\\ncomparison reveals that the red triangles, corresponding to B2gne-\\nmatic fluctuations, dominate in the FeSe 1−xSxsystem.\\nThe FeSe 1−xSxsingle crystals used in this study were\\ngrown using the chemical vapor transport method, as de-\\nscribed in detail elsewhere [10]. The doping levels of the\\nsamples were determined by Energy-Dispersive X-ray Spec-\\ntroscopy measurements. To cover the nematic regime, we se-\\nlected four doping levels ( x= 0, 0.10, 0.16, and 0.21) across\\nthe NQCP for this study [Fig. 1(b)]. The corresponding phase\\ntransition temperatures are indicated by solid circles in the\\nphase diagram of FeSe 1−xSx[Fig. 1(a)]. Uniaxial strain was\\napplied using bowtie-shaped titanium platforms ( 0.15mm in\\nthickness) as substrates, following the procedure outlined in\\nRef. [26]. Specifically, thin, flat FeSe 1−xSxsingle crys-\\ntals (approximately 10 µm in thickness) were affixed to the\\nneck of the titanium platform using EP29LPSP epoxy, as il-\\nlustrated in Figs. 1(b) and 1(c) [27]. The titanium platform\\nwas subsequently mounted in a sandwich configuration onto\\na commercial FC100 strain cell, allowing for the application\\nof either tensile or compressive strain [28]. Previous studies\\nhave demonstrated that strain applied to the titanium platform\\ncan be effectively transmitted to the thin crystal affixed to it\\n[26, 27]. In our measurements, the uniaxial strain was calcu-\\nlated from the force applied by the strain cell and further con-\\nfirmed using the cryogenic digital image correlation method'),\n",
       " Document(metadata={'source': 'data/FeSe_strain.pdf', 'page': 2}, page_content='3\\nTension\\nCompressionTension\\nCompressionTension Tension\\nCompression(a) (b) (c)\\nFeSe x=0.10 x=0.16 x=0.21(d)\\nCompression ε (%)ε (%)Resistivity (arb. u.)\\n8 10 11-1.5-1-0.500.511.52\\n9 9.5 10 10.5 11-2-1.5-1-0.500.511.522.5\\n10 11 12 13-2-1.5-1-0.500.511.52\\n9\\nResistivity (arb. u.)\\n-1.5-1-0.500.511.52\\n10 11 12 13 14 9 7 8 9Resistivity (arb. u.)\\nResistivity (arb. u.)\\ndR/dT(arb. u.)1\\n0\\nFeSe x=0.10 x=0.16 x=0.21Temperature (K)A1g\\nA1gA1g(e) (f ) (g) (h)11\\n10.5\\n10\\n9.5\\n9\\n8.5\\n8\\n-0.2 -0.1 0 0.1 0.2 -0.2 -0.1 00.1 0.2 0.3 -0.3 -0.2 -0.1 0 0.1 0.2 -0.3 -0.2 -0.1 0 0.1 0.2Temperature (K)10.8\\n10.6\\n10.4\\n10.2\\n10\\n9.8\\n9.6\\n9.4\\n9.212\\n11.5\\n11\\n10.5\\n10\\n9.5\\n9\\n8.5\\n812.5\\n12\\n11.5\\n11\\n10.5\\n10\\n9.57.5\\n7Temperature (K)\\nTemperature (K)\\nε (%) ε (%) ε (%) ε (%)0.242\\n0.197\\n0.150\\n0.102\\n0.054\\n0.000\\n-0.043\\n-0.092\\n-0.141\\n-0.193\\n-0.246\\n-0.2800.221\\n0.170\\n0.121\\n0.072\\n0.024\\n0.000\\n-0.024\\n-0.073\\n-0.122\\n-0.170\\n-0.2130.215\\n0.174\\n0.131\\n0.088\\n0.044\\n-0.043\\n-0.087\\n-0.131\\n-0.1760.000\\n-0.2220.327\\n0.283\\n0.238\\n0.191\\n0.144\\n0.000\\n-0.050\\n-0.102\\n-0.152\\n-0.202\\n-0.253\\n-0.3050.096\\n0.048\\n-0.352\\nTemperature (K) Temperature (K) Temperature (K) Temperature (K)ε (%) ε (%)\\nFIG. 3: (a)-(d) Normalized resistance-temperature (RT) curves under tensile and compressive strain for samples with different doping concen-\\ntrations. The zero points of different curves are vertically shifted according to their corresponding strain magnitudes. The color of each curve\\ncorresponds to the magnitude of the strain. Black dots indicate the determined superconducting transition temperatures. (e)-(h) Colormap of\\ndR/dT for samples with varying doping concentrations. The areas marked by grey dashed boxes indicate regions obscured by the A1gchannel\\ndue to twinning, exhibiting linear behavior.\\ndescribed in Ref. [29]. Figure 1(d) presents the normalized\\nresistance-temperature (RT) curves, with the structural phase\\ntransition temperature Tsmarked by black arrows. The abrupt\\nchange in resistance at lower temperatures signifies the onset\\nof superconductivity. Figure 1(f) illustrates the RT curve of a\\nFeSe sample under uniaxial strain ε[110], demonstrating that in\\nthis system, uniaxial strain not only alters Tc,onset andTc,offset\\nbut also affects the resistance values in the normal state (above\\nT= 11 K in this figure). This suggests that relying on a fixed\\nresistance value to determine the shift of Tcmay lead to in-\\naccuracies. Therefore, We chose the temperature with 10 %\\nof the resistance at the normal state ( T≈12K) to track the\\nrelative change of Tcunder uniaxial strain [26].\\nBefore investigating the interplay between nematicity and\\nsuperconductivity, we first validate the doping evolution of the\\nnematic susceptibility within the nematic fluctuating regime in\\nFeSe 1−xSx. Hosoi et al. have previously measured the elas-\\ntoresistivity of FeSe 1−xSx, revealing widespread nematic sus-\\nceptibilities χnemin the B2gchannel ( χB2gnem), which is signifi-\\ncantly enhanced around the NQCP [9]. In our measurements,\\nwe employed longitudinal elastoresistance measurements to\\nprobe the χnem. The change in resistivity induced by uniaxial\\nstrain — (∆R/R)xx(ε∥I∥x) — was found to vary linearly\\nwithin the elastic limit, which enabled us to determine the ne-\\nmatic susceptibility by analyzing the slope of (∆R/R)xxver-susεxx[28, 30, 31]. This method has been demonstrated to\\nbe effective in probing the divergent nematic susceptibility in\\nBa(Fe 1−xCox)2As2[30].\\nThe extracted nematic susceptibilities measured along\\ntetragonal [100] and [110] directions of x= 0,0.10, and 0.21\\nare displayed in Figs. 2(a) to 2(e). Following the analysis de-\\nscribed in Ref. [30], we performed Curie-Weiss fitting of the\\ndata using χnem(T) =λ\\na(T−T∗)+χ0\\nnem, where λis a lin-\\near coupling constant between nematicity and uniaxial strain,\\nandT∗is the bare nematic transition temperature. The fitting\\nresults, represented by red curves, are plotted onto the data\\npoints in the upper panels of Figs. 2(a)-2(e). The lower panels\\npresent the linear fitting ofλ\\na(T−T∗) = (χnem−χ0\\nnem)−1.\\nThe intersections between the linear fitting and the temper-\\nature axis yield the values of T∗, which are positive for\\nx= 0−0.16[red dots in Figs. 2(a)-2(c)] and become nega-\\ntive across the NQCP in x= 0.21[Figs. 2(d) and 2(e)] [28].\\nThis doping dependence is consistent with previous reports in\\nFeSe and iron-pnictide superconductors [9, 30].\\nFigure 2(f) summarizes the doping dependence of the ne-\\nmatic susceptibility χnem, showing the maximum values mea-\\nsured along both the [110] and [100] directions. The suscep-\\ntibility along the [110] direction, χB2gnem, increases monoton-\\nically with doping and is constantly much larger than that\\nalong the [100] direction, χB1gnem [28]. These results are in'),\n",
       " Document(metadata={'source': 'data/FeSe_strain.pdf', 'page': 3}, page_content='4\\nx=0.21(d)\\n0.3 0.2 0.1 0 0.1 0.200.511.52\\nFeSe(a)∆Tc (K)\\n0.5 0.4 0.3 0.2 0.1 0 0.1 0.2 0.30.40.200.20.40.6\\nε[110] (%)Ref. [28]\\n0.2 0.1 0 0.1 0.20.100.10.20.30.4\\nx=0.10(b)\\n0.4 0.3 0.2 0.1 0 0.1 0.2 0.3 0.400.40.81.21.6\\nx=0.16(c)\\nTc,0 T/c\\n0(h)\\ndoping= 0Tc\\ns+d(g)\\n= 0\\n0.10 0.15 0.2002468\\nβ<0β>0\\n0.05 0β=1\\nT0cd2Tc\\ndε2(f )β (104 )β = -1.28\\nBaFe2(As1-xPx)2\\nx=0.305(e)\\n0.5 0.4 0.3 0.2 0.1 0 0.1 0.2 0.3 0.4 0.52526272829Tc (K)104ε[110] (%) ε[110] (%) ε[110] (%)\\nx ε[110] (%)\\nFIG. 4: (a)-(d) Quadratic fitting of ∆Tc(ε)for FeSe 1−xSx, represented by red curves, based on the data points (blue dots) in each panel. Data\\npoints excluded from the analysis are that either fall within the twin boundary or exceed the range of infinitesimal strain approximation. In (a),\\npoints marked with triangles are taken from Ref. [26]. (e) Quadratic fitting analysis of the superconducting transition temperature under strain\\ncontrol for BaFe 2(As1−xPx)2. (f) Doping evolution of the normalized quadratic coefficient βin FeSe 1−xSx, showing a sign change from\\nnegative to positive with increasing sulfur content x, followed by a progressive enhancement. The gradation in background color correlates\\nwith the interplay between s-wave and d-wave superconducting states in the system. (g)-(h) Predictions from a multi-band spin fluctuation\\nEliashberg model considering the nematic order parameter for Tctuning.\\nagreement with previous findings reported in Ref. [9]. The\\npersistence of χB2gnemprovides a strong foundation for investi-\\ngating the interplay between nematicity and superconductiv-\\nity.\\nAfter illustrating the χB2gnem in FeSe 1−xSx, we proceed\\nto investigate the uniaxial strain dependence of Tc. Fig-\\nures 3(a)-3(d) present the resistivity curves for doping levels\\nx= 0,0.10,0.16and0.21, measured under varying uniaxial\\nstrain ε[110]. The superconducting transition temperatures, Tc,\\nmarked by black solid dots in each figure, exhibit systematic\\nshifts in response to ε[110]. The strain-induced change of Tc—\\n∆Tc(ε[110]), shows linear strain dependence in x= 0while at\\nhigher doping levels, it takes on a quadratic-like shape. These\\nbehaviors become clearer in the first-order temperature deriva-\\ntive of the resistivity ( dR/dT ) as shown in Figs. 4(e)-4(h).\\nUniaxial strain tuning of phase transition temperatures\\n(such as TsandTc) in the study of FeSCs is a well-established\\nexperimental method [26, 32–34]. To obtain a quantitative un-\\nderstanding, it is necessary to decompose the strain-tuning ef-\\nfects into all the irreducible ( A1g,B1gandB2g) strains under\\ntheD4hpoint group that describes the structure of the unit cell\\nof FeSe 1−xSx. Due to the Poisson’s effect, the longitudinal\\nstrain εxx=ε[110] generates εyy=−νε[110] (ν≈0.32for\\nthe titanium substrate), resulting in an in-plane symmetry pre-\\nserving strain εA1g=1\\n2(εxx+εyy) =1−ν\\n2εxx= 0.34ε[110]\\nand anti-symmetric strain εB2g=1\\n2(εxx−εyy) =1−ν\\n2εxx=\\n0.66ε[110]. In the small range of ε[110], it has been demon-\\nstrated that the relative change of Tccan be described by a\\nquadratic function ∆Tc(ε) =aεA1g+bε2\\nB2g, where the sym-\\nmetric εA1gcontributes only to the linear term, while the an-tisymmetric εB2gdominates the biquadratic term [32, 34]. In\\nterms of ε=ε[110], the formula becomes ∆Tc(ε) =αε+βε2,\\nin which α= 0.34aandβ= 0.44b.\\nThedR/dT color map Figs. 4(e)-4(h) reveal a pure linear\\n∆Tc(ε)(ε=−0.25% to +0.25 %) in FeSe [Fig. 4(e)], at-\\ntributed to εA1g-induced ∆Tcduring the detwinning process\\nin a prior study of uniaxial-strained FeSe [26]. The strain\\nrange corresponding to the linear ∆Tc(ε)defines the twin\\nboundary in the phase diagram of ∆Tc(ε)[26]. Indeed, such\\na linear region (associated with twinning) gradually shrinks\\nwith increasing (or decreasing) of the doping ( Ts) and disap-\\npears across the NQCP [Fig. 4(h)]. To effectively explore the\\ninterplay between nematicity and superconductivity, it is cru-\\ncial to bypass the linear region and measure the effects of εB2g\\nonTc.\\nFigures 5(a)-5(d) illustrate the strain tuning of Tcextracted\\nfrom Fig. 4 [black dots in Figs. 4(a)-4(d)]. The data be-\\nyond the twin boundary in these figures (blue dots) can be\\nfitted using ∆Tc=αε+βε2, where ε=ε[110]. In Fig 5(c),\\ndata points in large strain regions deviated from the quadratic\\nfunction are excluded. This is due to the requirement of an in-\\nfinitesimal strain approximation when decomposing Tctuning\\nresults into quadratic functions, following the D4hirreducible\\nrepresentations framework.\\nThe normalized quadratic coefficient βderived from our\\nfitting represents the εB2gsensitivity of Tc. In FeSe, the\\ncombined fitting of our data and that from prior study in\\nRef. [26] generates a negative β(β < 0). Note this value\\nmight contain large uncertainty due to the large detwinning\\nboundary in FeSe. Negative quadratic coefficient in ∆Tc=\\nαε+βε2have been reported in Ba(Fe 1−xCox)2As2[34] and'),\n",
       " Document(metadata={'source': 'data/FeSe_strain.pdf', 'page': 4}, page_content='5\\nBaFe 2(As1−xPx)2[35], that is, Tcis suppressed by ε[110]. To\\nfacilitate a direct comparison, we measured the ε[110] tuning\\nofTcusing the same strain cell and obtained β≈ −1.28×104\\nfollowing the same analyzing method. Surprisingly, as the in-\\ncrease of the doping in FeSe 1−xSx, the quadratic coefficient\\nβevolves to positive values at x≳0.1, indicating that Tc\\nis enhanced by ε[110] [Fig. 4(e)]. At higher doping, βin-\\ncreases with doping, evolves monotonically across the NQCP,\\nand reachs β≈8×104. It is worth noting that the lin-\\near coefficient αin the optimally doped iron pnictides and\\nin FeSe 1−xSxis much smaller, suggesting marginal effects of\\nthe symmetric strain εA1gin tuning Tcin these systems [36].\\nThe ∆Tc(ε)in FeSe 1−xSxand optimally doped\\nBa(Fe 1−xCox)2As2and BaFe 2(As1−xPx)2can be uni-\\nfied within the aforementioned theoretical framework\\nincorporating in the free energy the interplay between\\nelectronic nematicity, and sanddwave pairing instabilities\\n—φ∆s∆dcosθ. In the presence of nematic order and\\nfluctuations, it is found that the electronic nematicity leads\\nto deviations of Tc[solid lines in Fig. 5(g)] from its original\\nvalues [dashed lines in Fig. 5(g)]. The sign and magnitude\\nof the deviation is essentially determined by the competition\\nbetween sanddwave instability driven by controlling\\nparameter such as doping levels, or the competition between\\ndifferent types of spin fluctuations favoring distinct pairing\\nsymmetries. As shown in Fig 5(h), in optimally doped\\niron pnictides and at a lower concentration of FeSe 1−xSx\\n[marked by blue arrow in Fig. 5(g)], β < 0[blue curve in\\nFig. 5(h)] indicates their superconducting electron pairing\\nis dominated by s±wave instability. In contrast, at a higher\\ndoping of FeSe 1−xSx[marked by green arrow in Fig. 5(g)],\\nan enhancement of Tc[green curve in Fig. 5(h)] can be\\nattributed to the emergence of competing dwave instability.\\nThe coefficient βincrease monotonically across the NQCP,\\nindicating the system is evolving towards an s+dwave\\nstate. At the degeneracy point between sanddwave pairing,\\nit is predicted that ∆Tcis a nonanalytic linear function,\\nexpressed as ∆Tc(ε) =|α|ε, which could occur at even\\nhigher doping x > 0.21and requires validation in future\\nstudies. Nonetheless, the current results for ∆Tc(ε)provide\\ncompelling evidence concerning the significance of both\\ns-andd-wave pairing instability in FeSe 1−xSxand suggest\\nthat the system evolves from a predominant s±wave towards\\nans+dwave. Our study confirms the effectiveness of\\nnematicity as a probe of pairing symmetry in FeSCs [24].\\nIn summary, we have demonstrated that uniaxial strain\\nserves as an effective probe to elucidate the evolution of pair-\\ning symmetry in FeSe 1−xSxacross its nematic regime. Our\\nmeasurements of strain-induced changes in Tcreveal a transi-\\ntion from an s±-wave pairing state in undoped FeSe towards\\na mixed s+d-wave pairing state at higher sulfur doping. This\\nevolution underscores the intricate interplay between nematic-\\nity and superconductivity. These findings not only establish\\nuniaxial strain as a valuable tool for exploring superconduct-\\ning pairing mechanisms but also suggest that competing elec-\\ntronic instabilities significantly influence the superconductingground state in this class of materials. Further spectroscopic\\ninvestigations under strain are essential to fully uncover the\\nnature of the pairing symmetry near the nematic quantum crit-\\nical point and beyond.\\nWe thank Professor Pengcheng Dai for the helpful dis-\\ncussions. The work is supported by the National Key\\nProjects for Research and Development of China (Grant No.\\n2021YFA1400400), the National Natural Science Foundation\\nof China (Grant Nos. 12174029, and 11922402), and the Fun-\\ndamental Research Funds for the Central Universities (Grant\\nNo. 2243300003).\\n∗Electronic address: luxy@bnu.edu.cn\\n§These two authors contributed equally to this work.\\n[1] R. M. Fernandes, A. V . Chubukov, and J. Schmalian, What\\ndrives nematic order in iron-based superconductors? Nat. Phys.\\n10, 97-104 (2014).\\n[2] A. E. Böhmer et al. , Nematicity and nematic fluctuations in\\niron-based superconductors. Nature Physics 18, 24-30 (2022).\\n[3] R. M. Fernandes et al. , Iron pnictides and chalcogenides: a new\\nparadigm for superconductivity. Nature 601, 39-44 (2022).\\n[4] A. E. Böhmer, and A. Kreisel, Nematicity, magnetism and su-\\nperconductivity in FeSe. J. Phys. Condens. Matter 30, 023001\\n(2018).\\n[5] A. Coldea and M. D. Watson. The key ingredients of the elec-\\ntronic structure of FeSe. Annu. Rev. Condens. Matter Phys. 9,\\n125-146 (2018).\\n[6] A. I. Coldea, Electronic nematic states tuned by isoelectronic\\nsubstitution in bulk FeSe 1−xSx, Front. Phys. 8, 594500 (2021).\\n[7] F. C. Hsu et al. , Superconductivity in the PbO-type structure\\nα-FeSe. Proc. Natl Acad. Sci. USA 105, 14262 (2008).\\n[8] T. M. McQueen et al. , Tetragonal-to-orthorhombic structural\\nphase transition at 90K in the superconductor Fe 1.01Se. Phys.\\nRev. Lett. 103, 057002 (2009).\\n[9] S. Hosoi et al. , Nematic quantum critical point without mag-\\nnetism in FeSe 1−xSxsuperconductors. Proc. Natl Acad. Sci.\\nUSA 113, 8139-8143 (2016).\\n[10] Ruixian Liu et al. , Nematic Spin Correlations Pervading the\\nPhase Diagram of FeSe 1−xSx. Phys. Rev. Lett. 132, 016501\\n(2024)\\n[11] S. Licciardello et al. , Electrical resistivity across a nematic\\nquantum critical point. Nature 567, 213-217 (2019).\\n[12] P. Dai, Antiferromagnetic order and spin dynamics in iron-\\nbased superconductors, Reviews of Modern Physics 87, 855-\\n896 (2015).\\n[13] T. Chen et al. , Anisotropic spin fluctuations in detwinned FeSe.\\nNat. Mater. 18, 709-716 (2019).\\n[14] Q. Wang et al. , Magnetic ground state of FeSe. Nat. Commun.\\n7, 12182 (2016).\\n[15] X. Lu et al. , Spin-excitation anisotropy in the nematic state of\\ndetwinned FeSe. Nat. Phys. 18, 806-812 (2022).\\n[16] R. Liu et al. , Nematic quantum disordered state in FeSe.\\narXiv:2401.05092.\\n[17] J. Kang, A. V . Chubukov, and R. M. Fernandes, Time-reversal\\nsymmetry-breaking nematic superconductivity in FeSe. Phys.\\nRev. B 98, 064508 (2018).\\n[18] P. O. Sprau et al. , Discovery of orbital-selective Cooper pairing'),\n",
       " Document(metadata={'source': 'data/FeSe_strain.pdf', 'page': 5}, page_content='6\\nin FeSe. Science 357, 75-80 (2017).\\n[19] D. F. Liu et al. , Orbital origin of extremely anisotropic super-\\nconducting gap in nematic phase of FeSe superconductor. Phys.\\nRev. X 8, 031033 (2018).\\n[20] T. Hashimoto et al. , Superconducting gap anisotropy sensitive\\nto nematic domains in FeSe. Nat. Commun. 9, 282 (2018).\\n[21] Y . Sato et al., Abrupt change of the superconducting gap struc-\\nture at the nematic critical point in FeSe 1−xSx. Proc. Natl\\nAcad. Sci. USA 115, 1227-1231 (2018).\\n[22] T. Hanaguri et al. , Two distinct superconducting pairing states\\ndivided by the nematic end point in FeSe 1−xSx. Sci. Adv. 4\\neaar6419 (2018)\\n[23] K. Matsuura et al. , Two superconducting states with broken\\ntime-reversal symmetry in FeSe 1−xSx. Proc. Natl. Acad. Sci.\\nUSA 120e2208276120 (2023)\\n[24] R. M. Fernandes et al. , Nematicity as a Probe of Supercon-\\nducting Pairing in Iron-Based Superconductors. Phys. Rev. Lett.\\n111, 127001 (2013).\\n[25] S. Ghosh et al. , Elastocaloric evidence for a multicompo-\\nnent superconductor stabilized within the nematic state in\\nBa(Fe 1−xCox)2As2, arXiv:2402.17945.\\n[26] J. M. Bartlett et al. , Relationship between Transport Anisotropy\\nand Nematicity in FeSe, Phys. Rev. X 11, 021038 (2021).\\n[27] X. Yang et al. , In-plane uniaxial-strain tuning of superconduc-\\ntivity and charge-density wave in CsV 3Sb5, Chin. Phys. B 32,\\n127101 (2023).[28] See Supplemental Material\\n[29] Z. Mo et al. , Cryogenic Digital Image Correlation as a Probe of\\nStrain in Iron-Based Superconductors. Chin. Phys. Lett. 2024\\nDOI 10.1088/0256-307X/41/10/107102\\n[30] J.-H. Chu, H.-H. Kuo, J. G. Analytis, and I. R. Fisher. Diver-\\ngent Nematic Susceptibility in an Iron Arsenide Superconduc-\\ntor. Science 337, 710-712 (2012).\\n[31] H.-H. Kuo et al. , Ubiquitous signatures of nematic quantum\\ncriticality in optimally doped Fe-based superconductors. Sci-\\nence 352, 958-962 (2016).\\n[32] T. Worasaran, M. S. Ikeda, J. C. Palmstrom, J. A. W. Straqua-\\ndine, S. A. Kivelson, I. R. Fisher, Nematic quantum criticality\\nin an Fe-based superconductor revealed by strain-tuning. Sci-\\nence 372, 973-977 (2021).\\n[33] M. Ghini et al. , Strain tuning of nematicity and superconductiv-\\nity in single crystals of FeSe. Phys. Rev. B 103, 205139 (2021).\\n[34] P. Malinowski et al. , Suppression of superconductivity by\\nanisotropic strain near a nematic quantum critical point, Nat.\\nPhys. 16, 1189-1193 (2020).\\n[35] Z. Zhao et al. , Uniaxial-Strain Tuning of the Intertwined Orders\\nin BaFe 2(As1−xPx)2. arXiv: 2305.04424.\\n[36] It is worth noting that ∆Tc(εA1g)is significant in the un-\\nderdoped, nematic ordering regime of iron pnictides such as\\nBa(Fe 1−xCox)2As2and BaFe 2(As1−xPx)2.')]"
      ]
     },
     "execution_count": 114,
     "metadata": {},
     "output_type": "execute_result"
    }
   ],
   "source": [
    "loader = PyPDFLoader(\"data/FeSe_strain.pdf\")#\n",
    "# loader = PyPDFLoader(\"data/FeSe_doping.pdf\")\n",
    "pages = loader.load()\n",
    "pages"
   ]
  },
  {
   "cell_type": "markdown",
   "metadata": {},
   "source": [
    "### Split document"
   ]
  },
  {
   "cell_type": "code",
   "execution_count": 115,
   "metadata": {},
   "outputs": [],
   "source": [
    "text_splitter = RecursiveCharacterTextSplitter(chunk_size=1500,\n",
    "                                            chunk_overlap=200,\n",
    "                                            length_function=len,\n",
    "                                            separators=[\"\\n\\n\", \"\\n\", \" \"])\n",
    "chunks = text_splitter.split_documents(pages)"
   ]
  },
  {
   "cell_type": "markdown",
   "metadata": {},
   "source": [
    "### Create embeddings"
   ]
  },
  {
   "cell_type": "code",
   "execution_count": 116,
   "metadata": {},
   "outputs": [],
   "source": [
    "def get_embedding_function():\n",
    "    embeddings = OpenAIEmbeddings(\n",
    "        model=\"text-embedding-ada-002\", openai_api_key=OPENAI_API_KEY\n",
    "    )\n",
    "    return embeddings\n",
    "\n",
    "embedding_function = get_embedding_function()\n",
    "# test_vector = embedding_function.embed_query(\"cat\")"
   ]
  },
  {
   "cell_type": "code",
   "execution_count": 31,
   "metadata": {},
   "outputs": [
    {
     "data": {
      "text/plain": [
       "1536"
      ]
     },
     "execution_count": 31,
     "metadata": {},
     "output_type": "execute_result"
    }
   ],
   "source": [
    "# len(test_vector)"
   ]
  },
  {
   "cell_type": "code",
   "execution_count": 117,
   "metadata": {},
   "outputs": [],
   "source": [
    "from langchain.evaluation import load_evaluator\n",
    "\n",
    "evaluator = load_evaluator(evaluator=\"embedding_distance\", \n",
    "                            embeddings=embedding_function)\n",
    "\n",
    "# evaluator.evaluate_strings(prediction=\"Feynman\", reference=\"physics\")"
   ]
  },
  {
   "cell_type": "code",
   "execution_count": 33,
   "metadata": {},
   "outputs": [
    {
     "data": {
      "text/plain": [
       "{'score': 0.2021738115865368}"
      ]
     },
     "execution_count": 33,
     "metadata": {},
     "output_type": "execute_result"
    }
   ],
   "source": [
    "# evaluator.evaluate_strings(prediction=\"Feynman\", reference=\"biology\")"
   ]
  },
  {
   "cell_type": "markdown",
   "metadata": {},
   "source": [
    "### Create vector database"
   ]
  },
  {
   "cell_type": "code",
   "execution_count": 118,
   "metadata": {},
   "outputs": [],
   "source": [
    "import uuid\n",
    "\n",
    "def create_vectorstore(chunks, embedding_function, vectorstore_path):\n",
    "\n",
    "    # Create a list of unique ids for each document based on the content\n",
    "    ids = [str(uuid.uuid5(uuid.NAMESPACE_DNS, doc.page_content)) for doc in chunks]\n",
    "    \n",
    "    # Ensure that only unique docs with unique ids are kept\n",
    "    unique_ids = set()\n",
    "    unique_chunks = []\n",
    "    \n",
    "    unique_chunks = [] \n",
    "    for chunk, id in zip(chunks, ids):     \n",
    "        if id not in unique_ids:       \n",
    "            unique_ids.add(id)\n",
    "            unique_chunks.append(chunk) \n",
    "\n",
    "    # Create a new Chroma database from the documents\n",
    "    vectorstore = Chroma.from_documents(documents=unique_chunks, \n",
    "                                        ids=list(unique_ids),\n",
    "                                        embedding=embedding_function, \n",
    "                                        persist_directory = vectorstore_path)\n",
    "\n",
    "    # vectorstore.persist()\n",
    "    \n",
    "    return vectorstore"
   ]
  },
  {
   "cell_type": "code",
   "execution_count": 119,
   "metadata": {},
   "outputs": [],
   "source": [
    "# Create vectorstore\n",
    "vectorstore = create_vectorstore(chunks=chunks, \n",
    "                                 embedding_function=embedding_function, \n",
    "                                 vectorstore_path=\"vectorstore_1\")"
   ]
  },
  {
   "cell_type": "code",
   "execution_count": 120,
   "metadata": {},
   "outputs": [
    {
     "data": {
      "text/plain": [
       "24"
      ]
     },
     "execution_count": 120,
     "metadata": {},
     "output_type": "execute_result"
    }
   ],
   "source": [
    "len(chunks)"
   ]
  },
  {
   "cell_type": "code",
   "execution_count": 121,
   "metadata": {},
   "outputs": [
    {
     "data": {
      "text/plain": [
       "24"
      ]
     },
     "execution_count": 121,
     "metadata": {},
     "output_type": "execute_result"
    }
   ],
   "source": [
    "len(vectorstore)"
   ]
  },
  {
   "cell_type": "markdown",
   "metadata": {},
   "source": [
    "## 2. Query for relevant data"
   ]
  },
  {
   "cell_type": "code",
   "execution_count": 6,
   "metadata": {},
   "outputs": [
    {
     "ename": "NameError",
     "evalue": "name 'Chroma' is not defined",
     "output_type": "error",
     "traceback": [
      "\u001b[1;31m---------------------------------------------------------------------------\u001b[0m",
      "\u001b[1;31mNameError\u001b[0m                                 Traceback (most recent call last)",
      "Cell \u001b[1;32mIn[6], line 2\u001b[0m\n\u001b[0;32m      1\u001b[0m \u001b[38;5;66;03m# Load vectorstore\u001b[39;00m\n\u001b[1;32m----> 2\u001b[0m vectorstore \u001b[38;5;241m=\u001b[39m \u001b[43mChroma\u001b[49m(persist_directory\u001b[38;5;241m=\u001b[39m\u001b[38;5;124m\"\u001b[39m\u001b[38;5;124mvectorstore_1\u001b[39m\u001b[38;5;124m\"\u001b[39m, embedding_function\u001b[38;5;241m=\u001b[39membedding_function)\n",
      "\u001b[1;31mNameError\u001b[0m: name 'Chroma' is not defined"
     ]
    }
   ],
   "source": [
    "# Load vectorstore\n",
    "vectorstore = Chroma(persist_directory=\"vectorstore_1\", embedding_function=embedding_function)"
   ]
  },
  {
   "cell_type": "code",
   "execution_count": 123,
   "metadata": {},
   "outputs": [
    {
     "data": {
      "text/plain": [
       "24"
      ]
     },
     "execution_count": 123,
     "metadata": {},
     "output_type": "execute_result"
    }
   ],
   "source": [
    "len(vectorstore)"
   ]
  },
  {
   "cell_type": "code",
   "execution_count": 5,
   "metadata": {},
   "outputs": [
    {
     "ename": "NameError",
     "evalue": "name 'vectorstore' is not defined",
     "output_type": "error",
     "traceback": [
      "\u001b[1;31m---------------------------------------------------------------------------\u001b[0m",
      "\u001b[1;31mNameError\u001b[0m                                 Traceback (most recent call last)",
      "Cell \u001b[1;32mIn[5], line 2\u001b[0m\n\u001b[0;32m      1\u001b[0m \u001b[38;5;66;03m# Create retriever and get relevant chunks\u001b[39;00m\n\u001b[1;32m----> 2\u001b[0m retriever \u001b[38;5;241m=\u001b[39m \u001b[43mvectorstore\u001b[49m\u001b[38;5;241m.\u001b[39mas_retriever(search_type\u001b[38;5;241m=\u001b[39m\u001b[38;5;124m\"\u001b[39m\u001b[38;5;124msimilarity\u001b[39m\u001b[38;5;124m\"\u001b[39m)\n\u001b[0;32m      3\u001b[0m relevant_chunks \u001b[38;5;241m=\u001b[39m retriever\u001b[38;5;241m.\u001b[39minvoke(\u001b[38;5;124m\"\u001b[39m\u001b[38;5;124mWhat is the material used in the paper?\u001b[39m\u001b[38;5;124m\"\u001b[39m)\n\u001b[0;32m      4\u001b[0m relevant_chunks\n",
      "\u001b[1;31mNameError\u001b[0m: name 'vectorstore' is not defined"
     ]
    }
   ],
   "source": [
    "# Create retriever and get relevant chunks\n",
    "retriever = vectorstore.as_retriever(search_type=\"similarity\")\n",
    "relevant_chunks = retriever.invoke(\"What is the material used in the paper?\")\n",
    "relevant_chunks"
   ]
  },
  {
   "cell_type": "code",
   "execution_count": 3,
   "metadata": {},
   "outputs": [],
   "source": [
    "# Prompt template\n",
    "PROMPT_TEMPLATE = \"\"\"\n",
    "You are an assistant for question-answering tasks.\n",
    "Use the following pieces of retrieved context to answer\n",
    "the question. If the answer isn't in the text, say that you\n",
    "don't know. DON'T MAKE UP ANYTHING.\n",
    "\n",
    "{context}\n",
    "\n",
    "---\n",
    "\n",
    "Answer the question based on the above context: {question}\n",
    "\"\"\""
   ]
  },
  {
   "cell_type": "markdown",
   "metadata": {},
   "source": [
    "## 3. Generate responses"
   ]
  },
  {
   "cell_type": "code",
   "execution_count": 4,
   "metadata": {},
   "outputs": [
    {
     "ename": "NameError",
     "evalue": "name 'relevant_chunks' is not defined",
     "output_type": "error",
     "traceback": [
      "\u001b[1;31m---------------------------------------------------------------------------\u001b[0m",
      "\u001b[1;31mNameError\u001b[0m                                 Traceback (most recent call last)",
      "Cell \u001b[1;32mIn[4], line 2\u001b[0m\n\u001b[0;32m      1\u001b[0m \u001b[38;5;66;03m# Concatenate context text\u001b[39;00m\n\u001b[1;32m----> 2\u001b[0m context_text \u001b[38;5;241m=\u001b[39m \u001b[38;5;124m\"\u001b[39m\u001b[38;5;130;01m\\n\u001b[39;00m\u001b[38;5;130;01m\\n\u001b[39;00m\u001b[38;5;124m---\u001b[39m\u001b[38;5;130;01m\\n\u001b[39;00m\u001b[38;5;130;01m\\n\u001b[39;00m\u001b[38;5;124m\"\u001b[39m\u001b[38;5;241m.\u001b[39mjoin([doc\u001b[38;5;241m.\u001b[39mpage_content \u001b[38;5;28;01mfor\u001b[39;00m doc \u001b[38;5;129;01min\u001b[39;00m \u001b[43mrelevant_chunks\u001b[49m])\n\u001b[0;32m      4\u001b[0m \u001b[38;5;66;03m# Create prompt\u001b[39;00m\n\u001b[0;32m      5\u001b[0m prompt_template \u001b[38;5;241m=\u001b[39m ChatPromptTemplate\u001b[38;5;241m.\u001b[39mfrom_template(PROMPT_TEMPLATE)\n",
      "\u001b[1;31mNameError\u001b[0m: name 'relevant_chunks' is not defined"
     ]
    }
   ],
   "source": [
    "# Concatenate context text\n",
    "context_text = \"\\n\\n---\\n\\n\".join([doc.page_content for doc in relevant_chunks])\n",
    "\n",
    "# Create prompt\n",
    "prompt_template = ChatPromptTemplate.from_template(PROMPT_TEMPLATE)\n",
    "prompt = prompt_template.format(context=context_text, \n",
    "                                question=\"What is the material used in the paper?\")\n",
    "print(prompt)"
   ]
  },
  {
   "cell_type": "code",
   "execution_count": 127,
   "metadata": {},
   "outputs": [
    {
     "data": {
      "text/plain": [
       "AIMessage(content='The material used in the paper is FeSe (iron selenide) and its variant FeSe 1−xSx, along with references to iron pnictides and other related materials.', additional_kwargs={'refusal': None}, response_metadata={'token_usage': {'completion_tokens': 40, 'prompt_tokens': 1342, 'total_tokens': 1382, 'completion_tokens_details': {'audio_tokens': None, 'reasoning_tokens': 0}, 'prompt_tokens_details': {'audio_tokens': None, 'cached_tokens': 0}}, 'model_name': 'gpt-4o-mini-2024-07-18', 'system_fingerprint': 'fp_f59a81427f', 'finish_reason': 'stop', 'logprobs': None}, id='run-416b9cd3-41cf-462a-af6a-5ea5f34f0590-0', usage_metadata={'input_tokens': 1342, 'output_tokens': 40, 'total_tokens': 1382, 'input_token_details': {'cache_read': 0}, 'output_token_details': {'reasoning': 0}})"
      ]
     },
     "execution_count": 127,
     "metadata": {},
     "output_type": "execute_result"
    }
   ],
   "source": [
    "llm.invoke(prompt)"
   ]
  },
  {
   "cell_type": "markdown",
   "metadata": {},
   "source": [
    "### Using Langchain Expression Language"
   ]
  },
  {
   "cell_type": "code",
   "execution_count": 128,
   "metadata": {},
   "outputs": [
    {
     "data": {
      "text/plain": [
       "AIMessage(content='The material used in the paper is titanium, which serves as a platform for applying strain to a thin crystal affixed to it. Additionally, the study also discusses iron-based superconductors, specifically FeSe and its variants.', additional_kwargs={'refusal': None}, response_metadata={'token_usage': {'completion_tokens': 44, 'prompt_tokens': 1337, 'total_tokens': 1381, 'completion_tokens_details': {'audio_tokens': None, 'reasoning_tokens': 0}, 'prompt_tokens_details': {'audio_tokens': None, 'cached_tokens': 0}}, 'model_name': 'gpt-4o-mini-2024-07-18', 'system_fingerprint': 'fp_482c22a7bc', 'finish_reason': 'stop', 'logprobs': None}, id='run-2dbf396a-2913-4db6-9540-b744d2b74284-0', usage_metadata={'input_tokens': 1337, 'output_tokens': 44, 'total_tokens': 1381, 'input_token_details': {'cache_read': 0}, 'output_token_details': {'reasoning': 0}})"
      ]
     },
     "execution_count": 128,
     "metadata": {},
     "output_type": "execute_result"
    }
   ],
   "source": [
    "def format_docs(docs):\n",
    "    return \"\\n\\n\".join(doc.page_content for doc in docs)\n",
    "\n",
    "rag_chain = (\n",
    "            {\"context\": retriever | format_docs, \"question\": RunnablePassthrough()}\n",
    "            | prompt_template\n",
    "            | llm\n",
    "        )\n",
    "rag_chain.invoke(\"What is the material used in the paper?\")"
   ]
  },
  {
   "cell_type": "markdown",
   "metadata": {},
   "source": [
    "### Generate structured responses"
   ]
  },
  {
   "cell_type": "code",
   "execution_count": 129,
   "metadata": {},
   "outputs": [],
   "source": [
    "from typing import Tuple, List\n",
    "\n",
    "# class IntWithSources(BaseModel):\n",
    "#     \"\"\"An answer to the question, with sources and reasoning.\"\"\"\n",
    "#     answer: int = Field(description=\"Answer to question\")\n",
    "#     sources: str = Field(description=\"Full direct text chunk from the context used to answer the question\")\n",
    "#     reasoning: str = Field(description=\"Explain the reasoning of the answer based on the sources\")\n",
    "\n",
    "class StrWithSources(BaseModel):\n",
    "    \"\"\"An answer to the question, with sources and reasoning.\"\"\"\n",
    "    answer: str = Field(description=\"Answer to question\")\n",
    "    sources: str = Field(description=\"Full direct text chunk from the context used to answer the question\")\n",
    "    reasoning: str = Field(description=\"Explain the reasoning of the answer based on the sources\")\n",
    "\n",
    "# class TransitionTemp(BaseModel):\n",
    "#     \"\"\"An answer to the question, with sources and reasoning.\"\"\"\n",
    "#     answer: Tuple[str, int, str] = Field(description=\"Answer to question: Material, critical temperature, and temperature unit, e.g. ('CuO4', 8, 'K')\")\n",
    "#     sources: str = Field(description=\"Full direct text chunk from the context used to answer the question\")\n",
    "#     reasoning: str = Field(description=\"Explain the reasoning of the answer based on the sources\")\n",
    "\n",
    "class TransitionTemp(BaseModel):\n",
    "    \"\"\"Information related to the transition temperature, with sources and reasoning.\"\"\"\n",
    "    material: str = Field(description=\"Material used (chemical formula), e.g. 'CuO4' - answer should not contain any unknowns, e.g. 'x' - \\\n",
    "                          if there is no valid answer, the answer should be 'None'\")\n",
    "    critical_temp: str = Field(description=\"Critical temperature (Tc), e.g. '8 K' - must contain the temperature unit, \\\n",
    "                               and must be a direct quote from the text - if there is no numerical answer, the answer should be 'None'\")\n",
    "    sources: str = Field(description=\"Full direct text chunk from the context used to answer the question\")\n",
    "    reasoning: str = Field(description=\"Explain the reasoning of the answer based on the sources\")\n",
    "    \n",
    "class ExtractedInfo(BaseModel):\n",
    "    \"\"\"Extracted information about the research article\"\"\"\n",
    "    paper_summary: StrWithSources\n",
    "    transition_temp: TransitionTemp"
   ]
  },
  {
   "cell_type": "code",
   "execution_count": 130,
   "metadata": {},
   "outputs": [
    {
     "data": {
      "text/plain": [
       "ExtractedInfo(paper_summary=StrWithSources(answer='The research paper investigates the relationship between uniaxial strain and superconducting transition temperature (Tc) in the iron selenide system FeSe1−xSx, focusing on the doping dependence and nematic fluctuations. It presents experimental data showing how the application of strain affects Tc, with results indicating a predominant s±wave pairing in lightly doped samples and variations in nematic susceptibility with doping concentrations. The study employs techniques like the four-electrode method to measure resistivity and explores the interplay between nematicity and superconductivity in this material.', sources='The functional form of ∆Tc(φ)[equivalent to ∆Tc(ε)], dictated by the coupling FSC−nem∝φ∆s∆dcosθ, allows us to unveil the evolution of underlying pairing symmetry in the nematic regime of FeSe 1−xSx. In undoped and lightly doped FeSe 1−xSx, ε[110]-induced change in Tc is dominated by ∆Tc(ε) = βε2 with β < 0, consistent with the predominant s±wave pairing.', reasoning='The summary reflects the main focus of the research on how uniaxial strain impacts the superconducting transition temperature in FeSe1−xSx, highlighting key findings related to doping and nematicity.'), transition_temp=TransitionTemp(material='FeSe1−xSx', critical_temp='11 K', sources='Figure 1(f) illustrates the RT curve of a FeSe sample under uniaxial strain ε[110], demonstrating that in this system, uniaxial strain not only alters Tc,onset and Tc,offset but also affects the resistance values in the normal state (above T= 11 K in this figure).', reasoning='The critical temperature is noted as 11 K in the context of the resistivity measurements under strain, indicating the temperature at which superconductivity onset is observed.'))"
      ]
     },
     "execution_count": 130,
     "metadata": {},
     "output_type": "execute_result"
    }
   ],
   "source": [
    "rag_chain = (\n",
    "            {\"context\": retriever | format_docs, \"question\": RunnablePassthrough()}\n",
    "            | prompt_template\n",
    "            | llm.with_structured_output(ExtractedInfo, strict=True)\n",
    "        )\n",
    "\n",
    "rag_chain.invoke(\"Give me a summary of the research paper, the material used (chemical formula), and the critical temperature, with its unit.\")"
   ]
  },
  {
   "cell_type": "markdown",
   "metadata": {},
   "source": [
    "### Transform response into a dataframe"
   ]
  },
  {
   "cell_type": "code",
   "execution_count": 75,
   "metadata": {},
   "outputs": [
    {
     "data": {
      "text/html": [
       "<div>\n",
       "<style scoped>\n",
       "    .dataframe tbody tr th:only-of-type {\n",
       "        vertical-align: middle;\n",
       "    }\n",
       "\n",
       "    .dataframe tbody tr th {\n",
       "        vertical-align: top;\n",
       "    }\n",
       "\n",
       "    .dataframe thead th {\n",
       "        text-align: right;\n",
       "    }\n",
       "</style>\n",
       "<table border=\"1\" class=\"dataframe\">\n",
       "  <thead>\n",
       "    <tr style=\"text-align: right;\">\n",
       "      <th></th>\n",
       "      <th>paper_title</th>\n",
       "      <th>paper_summary</th>\n",
       "      <th>publication_year</th>\n",
       "      <th>paper_authors</th>\n",
       "    </tr>\n",
       "  </thead>\n",
       "  <tbody>\n",
       "    <tr>\n",
       "      <th>answer</th>\n",
       "      <td>Consequences of Erudite Vernacular Utilized Ir...</td>\n",
       "      <td>The paper explores the negative relationship b...</td>\n",
       "      <td>2006</td>\n",
       "      <td>Daniel M. Oppenheimer</td>\n",
       "    </tr>\n",
       "    <tr>\n",
       "      <th>source</th>\n",
       "      <td>Copyright#2005 John Wiley &amp; Sons, Ltd. Appl. C...</td>\n",
       "      <td>Most texts on writing style encourage authors ...</td>\n",
       "      <td>Appl. Cognit. Psychol. 20: 139–156 (2006)</td>\n",
       "      <td>Correspondence to: D. M. Oppenheimer, Departme...</td>\n",
       "    </tr>\n",
       "    <tr>\n",
       "      <th>reasoning</th>\n",
       "      <td>The title is explicitly mentioned at the begin...</td>\n",
       "      <td>The summary is derived from the overall conten...</td>\n",
       "      <td>The publication year is indicated in the citat...</td>\n",
       "      <td>The author’s name is provided in the correspon...</td>\n",
       "    </tr>\n",
       "  </tbody>\n",
       "</table>\n",
       "</div>"
      ],
      "text/plain": [
       "                                                 paper_title  \\\n",
       "answer     Consequences of Erudite Vernacular Utilized Ir...   \n",
       "source     Copyright#2005 John Wiley & Sons, Ltd. Appl. C...   \n",
       "reasoning  The title is explicitly mentioned at the begin...   \n",
       "\n",
       "                                               paper_summary  \\\n",
       "answer     The paper explores the negative relationship b...   \n",
       "source     Most texts on writing style encourage authors ...   \n",
       "reasoning  The summary is derived from the overall conten...   \n",
       "\n",
       "                                            publication_year  \\\n",
       "answer                                                  2006   \n",
       "source             Appl. Cognit. Psychol. 20: 139–156 (2006)   \n",
       "reasoning  The publication year is indicated in the citat...   \n",
       "\n",
       "                                               paper_authors  \n",
       "answer                                 Daniel M. Oppenheimer  \n",
       "source     Correspondence to: D. M. Oppenheimer, Departme...  \n",
       "reasoning  The author’s name is provided in the correspon...  "
      ]
     },
     "execution_count": 75,
     "metadata": {},
     "output_type": "execute_result"
    }
   ],
   "source": [
    "structured_response = rag_chain.invoke(\"Give me the title, summary, publication date, authors of the research paper.\")\n",
    "df = pd.DataFrame([structured_response.dict()])\n",
    "\n",
    "# Transforming into a table with two rows: 'answer' and 'source'\n",
    "answer_row = []\n",
    "source_row = []\n",
    "reasoning_row = []\n",
    "\n",
    "for col in df.columns:\n",
    "    answer_row.append(df[col][0]['answer'])\n",
    "    source_row.append(df[col][0]['sources'])\n",
    "    reasoning_row.append(df[col][0]['reasoning'])\n",
    "\n",
    "# Create new dataframe with two rows: 'answer' and 'source'\n",
    "structured_response_df = pd.DataFrame([answer_row, source_row, reasoning_row], columns=df.columns, index=['answer', 'source', 'reasoning'])\n",
    "structured_response_df"
   ]
  },
  {
   "cell_type": "code",
   "execution_count": null,
   "metadata": {},
   "outputs": [],
   "source": []
  }
 ],
 "metadata": {
  "kernelspec": {
   "display_name": ".venv",
   "language": "python",
   "name": "python3"
  },
  "language_info": {
   "codemirror_mode": {
    "name": "ipython",
    "version": 3
   },
   "file_extension": ".py",
   "mimetype": "text/x-python",
   "name": "python",
   "nbconvert_exporter": "python",
   "pygments_lexer": "ipython3",
   "version": "3.12.7"
  }
 },
 "nbformat": 4,
 "nbformat_minor": 2
}
