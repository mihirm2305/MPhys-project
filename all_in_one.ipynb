{
 "cells": [
  {
   "cell_type": "code",
   "execution_count": 2,
   "metadata": {},
   "outputs": [
    {
     "name": "stderr",
     "output_type": "stream",
     "text": [
      "c:\\Users\\mihir\\Documents\\Oxford Physics\\Superconductors\\MPhys\\Python\\.venv\\Lib\\site-packages\\IPython\\core\\interactiveshell.py:3577: LangChainDeprecationWarning: As of langchain-core 0.3.0, LangChain uses pydantic v2 internally. The langchain_core.pydantic_v1 module was a compatibility shim for pydantic v1, and should no longer be used. Please update the code to import from Pydantic directly.\n",
      "\n",
      "For example, replace imports like: `from langchain_core.pydantic_v1 import BaseModel`\n",
      "with: `from pydantic import BaseModel`\n",
      "or the v1 compatibility namespace if you are working in a code base that has not been fully upgraded to pydantic 2 yet. \tfrom pydantic.v1 import BaseModel\n",
      "\n",
      "  exec(code_obj, self.user_global_ns, self.user_ns)\n"
     ]
    }
   ],
   "source": [
    "# Import Langchain modules\n",
    "from langchain.document_loaders import PyPDFLoader\n",
    "from langchain.text_splitter import RecursiveCharacterTextSplitter\n",
    "from langchain_openai import OpenAIEmbeddings, ChatOpenAI\n",
    "from langchain.vectorstores import Chroma\n",
    "from langchain_core.runnables import RunnablePassthrough\n",
    "from langchain_core.prompts import ChatPromptTemplate\n",
    "from langchain_core.pydantic_v1 import BaseModel, Field\n",
    "\n",
    "# Other modules and packages\n",
    "import os\n",
    "import tempfile\n",
    "import streamlit as st  \n",
    "import pandas as pd\n",
    "from dotenv import load_dotenv"
   ]
  },
  {
   "cell_type": "code",
   "execution_count": 3,
   "metadata": {},
   "outputs": [
    {
     "data": {
      "text/plain": [
       "True"
      ]
     },
     "execution_count": 3,
     "metadata": {},
     "output_type": "execute_result"
    }
   ],
   "source": [
    "load_dotenv()"
   ]
  },
  {
   "cell_type": "code",
   "execution_count": 4,
   "metadata": {},
   "outputs": [],
   "source": [
    "OPENAI_API_KEY = os.environ.get(\"OPENAI_API_KEY\")"
   ]
  },
  {
   "cell_type": "code",
   "execution_count": 6,
   "metadata": {},
   "outputs": [],
   "source": [
    "llm = ChatOpenAI(model=\"gpt-4o-mini\", api_key=OPENAI_API_KEY)"
   ]
  },
  {
   "cell_type": "code",
   "execution_count": 42,
   "metadata": {},
   "outputs": [
    {
     "data": {
      "text/plain": [
       "[Document(metadata={'source': 'data/Transition temp example.pdf', 'page': 0}, page_content='Superconductivity at 250 K in lanthanum hydride  under high pressures  \\n \\nA. P.  Drozdov1, P. P. Kong1, V. S. Minkov1, S. P. Besedin1, M. A. Kuzovnikov1,6, S. Mozaffari2, L. \\nBalicas2,  F. Balakirev3, D. Graf2, V. B. Prakapenka4, E. Greenberg4, D. A. Knyazev1, M. Tkacz5, and \\nM. I. Eremets1 \\n \\n \\n1Max-Planck -Institut fur  Chemie, Hahn -Meitner Weg 1, 55128 Mainz, Germany   \\n2National High Magnetic Field Laboratory  (NHMFL ), Florida State University, Tallahassee, Florida \\n32310, USA  \\n3NHMFL, Los Alamos National Laboratory, MS E536, Los Alamos, New Mexico 87545, USA  \\n4Center for Advanced Radiation Sources, University of Chicago, 5640 South Ellis Avenue, Chicago, \\nIllinois, 60637, USA  \\n5Institute of Physical Chemistry PAS, Kasprzaka 44/ 52, 01 -224 Warsaw, Poland  \\n6Institute of Solid State Physics RAS, Chernogolovka,  Moscow District,  142432 Russia  \\n \\n \\nThe discovery of superconductivity at  203 K in H 3S1 brought attention back to conventional \\nsuperconductor s whose properties can be described by the Bardeen -Cooper -Schrieffer (BCS) and \\nthe Migdal -Eliashberg theories. These theories predict that high , and even room temperature \\nsuperconductivity  (RTSC) is possible in metals pos sessing certain favorable parameter s such as \\nlattice vibrations at high frequencies . However, these general theories do not suffice  to predict \\nreal superconductors.  New superconducting materials  can be predicted now with the aid of first \\nprinciples calculations  based on Density Functional Theory (DFT) . In particular, the calculations  \\nsuggested  a new family of hydrides  possessing  a clathrate  structure , where  the host atom  (Ca, Y, \\nLa) is at the cen ter of the cage formed by hydrogen atoms2-4. For LaH10 and YH 10 \\nsuper conductivity , with critical temperature s Tc ranging between  240 and 320 K is predicted  at \\nmegabar pressures3-6. Here , we report superconductivity  with a record  Tc \\uf07e 250 K with in the \\nFm3m  structure of LaH 10 at a pressure P \\uf07e 170 GPa . We proved the  existence of  superconductivity  \\nat 250 K through  the observation of  zero-resistance , isotope effect,  and the decrease of Tc under \\nan external magnetic field, which suggests  an upper critical magnetic field of \\uf07e120 T  at zero -\\ntemperat ure. The pressure dependence of the transition temperatures Tc (P) has a maximum of \\n250-252 K at the pressure of about 170 GPa .  This leap, by \\uf07e 50 K , from  the previous Tc record of  \\n203 K1 indicates  the real possibility of  achieving RTSC  (that is at 273 K)  in the near future  at high \\npressures  and the perspective  of conventional superconductivity at ambient pressure.  \\n \\nThe quest for room temperature superconductivity is a longstanding challenge. Superconductivity  \\nwas considered as a low-temperature phenomenon as the known materials had Tcs inferior to  \\uf07e30 K , \\nuntil 1986 , when Bednorz  and M üller discovered the cuprates7 – copper based superconductors with \\nenormous  Tcs that can  reach  164 K8 – or the so -called high temperature superconductors  (HTSCs ). The \\ncuprates stimulated an intense quest for room temperature superconduct ivity. However , the maximum \\nvalue of Tc has remained  at the same  for 25 years  despite  tremendous efforts.  \\nThe discovery of superconductivity  at 203 K in H 3S1 at high pressures offered another route  in the \\nsearch for  high temperature superconductivity  \\uf02d in conventional superconductors9. In fact , that was  the \\nfirst confirmation of the old implication of the BCS and Migdal -Eliashberg theories  concerning the \\npossibility of high temperature superconductivi ty in material s with high phonon frequencies10. \\nHydrogen - and carbon -abundant  materials  can, in principle,  provide  the required high frequencies in \\nthe phonon spectrum as well as the strong electron -phonon interaction11,12. A great support for \\nnarrowing down the experiment al search for RTSC came from crystal structure prediction s based on '),\n",
       " Document(metadata={'source': 'data/Transition temp example.pdf', 'page': 1}, page_content='density functional theory13-16: as soon as the structure is determined, the electron and phonon spectra  as \\nwell as  the transition temperatures can be estimated from the BCS and Elias hberg theories . First \\nprinciple theory  of superconductivity  is developing too17,18. Recently, nearly  all of the binary hydrides \\nhave been studied  theoretically13-15, with the calculations now focusing on the ternary compounds19. \\nThrough  this broad  theoretical  search  for RTSC , an interesting family of hydrides having a \\nclathrate structure  was found , leading to a first report on CaH 62 and subsequently  on YH 620. Here Ca \\nand Y are located at  the center  of the H 24 cages , and act as electron donors  contributing to electron \\npairing , while the H atoms are weakly  covalently bonded  to each other within the cage.  Their structure \\nis quite different from the one of H3S where each hydrogen atom is strongly, covalently connected to \\nthe two nearby sulfur atoms. The clathrate  structure with even larger  hydrogen content,  H32 cages , were \\nlater predicted  in YH 10 and in rare earth (RE) hydrides3 such as LaH 103,4,21. These  superhydrides can be \\nconsidered to be  doped version s of metallic hydrogen  and therefore are naturally expect ed to have  high \\nTcs. Indeed, DFT predicts a Tc of 235 K  at 150 GPa  for CaH 62, Tc = 305–326 K at 250 GPa5 (or 303 K \\nat 400 GPa4) for YH 10, and a Tc \\uf07e 280 K at \\uf07e200 GPa  for LaH 103,4. \\nObviously , these remarkable predictions  for nearly room temperature superconductivity  motivate  \\nexperimental verification s, although the experiment s are very challenging . The first lanthanum \\nsuper hydride  was synthesized only recently under  P>160 GPa  upon heating up to \\uf07e1000  K22. The X -\\nray data indicate that the stoichiometry correspond s to LaH 10±x (-1 < x < 2) which is  close to the \\npredicted  LaH 103,5.  Somayazulu et al. measured the temperature dependence of the resistivity of La \\nheated with NH 3BH 3 as the hydrogen source under similar pressure and observed a drop in the \\nresistance at \\uf07e260 K upon  cooling and \\uf07e248 K upon  warming the sample which was assigned to the \\nsuperconducting transition of LaH 10±x23. They also observed a series of resistance anomalies at \\ntemperatures as high as 280K. However, neither a zero resistance  state nor additional confirmation s \\n(like the Meissner effect  or isotopic effects  or the effect of  an external magnetic field  on the transition \\ntemperature ) was provided . Simultaneously,  a record superconducti ng transition of Tc = 215 K  in LaH x \\ndisplaying zero resistance  after the transition was reported24. \\nIn the present work we  performed an extensive search for superconductivity  in the lanthanum -\\nhydrogen  system . In our experiments (see Methods for details) w e found a number of superconducting \\ntransitions  at Tc \\uf07e250 K, 215 K, 110 K , and 70 K  (Fig. 1 and Extended Data, Fig s 1-5) with a sharp \\ndrop in the electrical resistance towards  zero value .  \\nTo confirm the existence of superconductivity  it is crucial to  detect the  Meissner effect , but \\nmagnetization  measurements within the diamond anvil cell ( DAC ) in a SQUID magnetometer are \\nproblematic  due to the small sample volume . The Meissner effect   was detected in the case of  H3S1 but \\non a sample having a diameter of \\uf07e100 µm1. Our typical lanthanum hydride samples are much smaller \\n(10-20 µm) , therefore, their magnetization signal is below the sensitivity of a SQUID magnetometer. \\nThese small samples are challenging  for the AC magnetic susceptibility method  too and hence  it will \\nrequire further experimental developments .  \\nNevertheless, t he superconducti ng nature of the transition can be verified via its dependence on \\nthe external magnetic field , since the magnetic  field reduces Tc in type II superconductors through  the \\nso-called orbital effect or by breaking the spin -singlet state of the Cooper pair. Figure 2 shows that an \\napplied field of µ0H= 9 T indeed reduces the onset of the superconducting transition  by about 10 K . \\nThe extrapolation of the  temperature depende nt upper critical fields 𝐻𝑐2(𝑇) towards T = 0 K,  Fig. 2b,  \\nyields values between 95 and 136 T for 𝐻𝑐2(0). Notice the two steps  near 245 K and 230 K in the \\nsuperconducting transition at zero -field. The higher  temperature step gradually broadens with \\nincreasing magnetic field and completely disappears above 3  T. This behavior is consistent with \\ninhomogeneous superconductivity. While it is difficult to investigate the local inhomogeneity of the \\nsuperconducting state in a DAC, multiple examples of m ulti-step transitions in inhomogeneous samples '),\n",
       " Document(metadata={'source': 'data/Transition temp example.pdf', 'page': 2}, page_content='at ambient pressure can be found in the literature25. In particular, an anomaly res embling a double \\ntransition, as well as  resistance peaks at Tc, were also observed in superconducting boron -doped \\ndiamond, w here it was ascribed to the extinction of individual superconducting quasiparticles  prior to \\nthe onset of global phase -coherence in strongly inhomogeneous samples25. We note that some degree \\nof inhomogeneity is inevitable in samples synthesized within the confi ned space provided by the DAC.  \\nFurther study of the superconductivity  in LaH 10 includes the pressure dependence of the \\nsuperconductivity  to determine the highest Tc. It clearly has a “dome” -like shape: after the initial \\nincrease and reaching the maximum Tc = 250 -252 K at \\uf07e170 GPa, Tc decreases abruptly at higher \\npressures (Fig. 1, inset).   This is  in a clear disagreement with the claims of superconductivity with Tc \\n=280 K and 290 K in Ref. 23. \\nThe structure of the superconducting phase with Tc \\uf07e 250 K at 150 GPa, was determined as face -\\ncentered cubic  (fcc) lattice Fm3m  with the refined lattice constant a = 5.1019(5) Å  (V = 132.80(4) Å3) \\n(Fig. 3c). This fcc structure is in agreement with the previous experimental study22 and theoretical  \\npredict ions for LaH 103-5 with volum es of 131.9 Å3 at 172 GPa and 128.8 Å3 at 175 GPa. Experimentally, \\nthe stoichiometry can be estimated from the volume occupied by H atoms: \\uf07e18.2 A3 per La atom \\uf02d the \\ndifference between this volume and the volume occupied by the lanthanum atom22. The volume \\noccupied by the hydrogen atom (s) was accurately determine d from the diffraction study of LaH 3 \\n(Extended Data, Fig. ED2) : \\uf07e1.9 Å3 at 152 GPa. This gives the stoichiometry LaH 9.6 for the 250 K \\nsuperconductive  phase , in good agreement with the predict ions for LaH 10 3,5. \\nThe isotope effect, i.e. the shift in Tc through replacement of hydrogen by deuterium, gives direct \\nevidence on the pairing mechanism of superconductivity9. For that,  Tcs in hydrides should be compared  \\nwith those in deuterides in the same phases and under the same pressures.  \\nA complication arose from the existence of competing phases: in hydrides different phases with \\nTc =250 K ( Fm3m  structure) and 215 K (the structure to be  determined) are formed under the same \\npressure -synthesis  conditions . This assertion is valid also for the synthesized deuteride phases \\ndisplaying Tc of \\uf07e168 K and \\uf07e140 K. The later phase has tetragonal P4/nmm  structure  and LaD 11 \\nstoichiometry (Fig. 3 e and Extended Data , Fig. 5 ) in agreement with the predicted LaH 11 phase3. The \\ncomputational  calculations3 suggest that the tetragonal phase of LaH 11 is more stable than the  close \\npacked cubic phase  of LaH 10. Note, that the calculations predi ct very low Tc for the  LaH 11 phase3 \\ncontrary to our observations .  \\nAt present we cannot directly compare Tcs in hydride s and deuterides having the same  \\ncrystallographic  structures. We can naturally suppose that the hydride with the maximum Tc (250 K) \\nand the deuteride with maximum Tc (168 K) have the same crystal structure , that is the Fm3m  phase \\n(see Extended Data for details). Similarly, the hydride with Tc = 215 K and the deuteride with Tc = 140 \\nK should have a common P4/nmm structure.  Under this assumption, we obtained the isotope coefficient \\n\\uf061 of about 0.57 and 0.62 for the superconduct ivity in the fcc and P4/nmm phases, respectively. These \\nvalues of \\uf061 are close to 0 .5, which is the maximum expected value for a phonon -mediated \\nsuperconductivity in a harmonic approximation. The values of α>0.5 could be explained probably by a \\nsoft anharmo nism of H/D vibrations (\\n2\\uf03cD H\\uf077\\uf077 , where ωH and ωD are phonon frequencies for \\nhydrogen and deuterium, respectively ). The isotope coefficient was determined from the BCS equation \\nTc= A·m−α; where m is the isotope mass and A is a constant. These values of \\uf061 are close but higher than \\nthe classical value of α ≈0.5 for conventional superconductivity.  The work is in progress to determine \\nthe crystal structure of the hydride with Tc=215 K and deuteride wi th Tc\\uf07e168 K.   \\n \\nWe found a record Tc = 250 K for LaH 10 belonging to the lanthanum – hydrogen system,  thus \\nconfirming the prediction of high temperature superconductivity  in super hydride s with the sodalite -like \\nclathrate  structure  first proposed  for CaH 62. Our study makes a leap forward on the road to the roo m-'),\n",
       " Document(metadata={'source': 'data/Transition temp example.pdf', 'page': 3}, page_content='temperature superconductivity, and also provides an evidence that the art -of-state methods for crystal \\nstructure prediction can  be very useful for the search of high temperature superconductors.  The current \\ntheoretical predictions for RTSC  in yttrium super hydrides3,5 motivate further experiments. We hope \\nthat the observation of superconductivity  with very high Tc(s) found at high pressures will generate \\ninterest for further theoretical and experimental efforts concentrated on the search for high temperature \\nconventional superconductor s at ambient pressure , for example , in carbon -based materials11. One \\nencouraging example is the discovery of superconductivity  with Tc \\uf040 55 K  in Q-carbon26. \\n \\n \\nFigure captions  \\n \\nFig. 1 | Observation of superconducting in LaH 10. Superconducting transitions in lanthanum \\nsuperhydride LaH 10 measured in different samples synthesized from a La+H 2 mixture: red curve \\ncorresponds to the sample heated up under  145 GPa displaying  Tc of \\uf07e244 K, which shifts to \\uf07e249 K \\nwhen the  pressure  is increased up to 151 GPa (orange curve); dark yellow curve corr esponds to the \\nsample heated under  135 GPa with  a Tc of \\uf07e245 K; blue curve corresponds to a sample heated under  \\n150 GPa with Tc \\uf07e249 K. Red, orange and dark yellow curves show the sharpest transition s to zero -\\nresistance upon cooling. Blue curve , as well as many others samples , shows onsets of the \\nsuperconductive transition around the same  temperatures but the sharp superconducting step being  \\ndistorted by the pres ence of an impurity phase and/ or inhomogeneity in the sample. The resistance of \\nthe samples was divided by the shown coefficients for the sake of clarity . A vertical line drawn at 273 \\nK marks the RTSC limit. Inset : pressure dependence of Tc for the 6 different samples.  \\n \\nFig. 2 | Superconducting transition under an  external magnetic field.  \\na, Electrical resistance 𝑅 as a function of the temperature  𝑇 for LaH 10 under applied magnetic fields \\nup to µ 0H = 9 T. The width of the superconducting transition remains essentially constant up to 9 T.   \\nBoth, the cool down and the warm up temperature sweeps are plotted. The superconducting critical \\ntemperatures were determined as the average between  both sweeps. An applied field of µ0H= 9 T \\nreduces the onset of the superconducting transition from ~250 K ( as extracted from the warm up \\ncurve) to ~240 K.   Notice that the step observed in the superconducting transition measured at zero -\\nfield, which appears around 245 K, disappears under the application of a modest field of just µ0H = 3 \\nT. The gradual disappear ance of this step via the application of an external magnetic field is shown in \\nthe inset. Likely , this step results from inhomogene ities in  the superconducti ng sample. Similar \\nbehavior  was found in disordered superconducti ng diamond doped with boron.25 \\nb, Upper critical fields Hc2 as a function of the temperature   following the criteria of 90% (solid \\nmarkers) and 50% (open markers) of the resistance in the normal state. Solid curves are extrapolations \\nresulting from fits to the Ginzburg -Landau expression in order to estimate the upper critical fields in \\nthe limit of  zero temperatures.  The temperature dependence of the observed upper critical fields \\n𝐻𝑐2(𝑇) were obtained from the 𝑅(𝑇, 𝐻) data displayed in Fig. 2(a). The Hc2s near Tc increase nearly \\nlinearly with T as T is lowered.  Here, we use a simple Ginzburg -Landau expression 𝐻𝑐2(𝑇)=\\n𝐻𝑐2(0)(1−(𝑇𝑇𝑐⁄)2\\n) to estimate the upper critical fields 𝐻𝑐2(0) in the limit  of zero  temperatures . \\nThe Ginzburg -Landau coherence lengths deduced from these 𝐻𝑐2(0) values ranges between  𝜉=1.56 \\nand 1.86 nm.  \\n \\n \\nFig. 3 | Structural analysis . \\nX-ray diffraction studies of superconducti ng lanthanum hydrides. (a) Cake representation of the \\ntypical X -ray powder diffraction pattern measured for the sample showing  a superconducting step at \\n\\uf07e249 K under  150 GPa  (blue curve in Figure 1). The dominant face -centred Fm-3m phase gives a \\nspotty powder pattern. Integrated powder patterns for samples synthesized from the La+H 2 mixture \\nexhibiting a Tc of \\uf07e249 K under  150 GPa (b) and the La+D 2 mixture with a Tc \\uf07e140 K at 142 GPa (c). \\nIndexation and refinement of these powder diffraction patterns yield  two different phases , i.e. Fm-3m \\n(a = 5.1019(5) Å, V = 132.80(4) Å3) and P4/nmm  (a = 3.7258(6) Å, c = 5.0953(12) Å and V = '),\n",
       " Document(metadata={'source': 'data/Transition temp example.pdf', 'page': 4}, page_content='70.73(2) Å3) with stoichiometries corresponding to  LaH 9.6 and LaD 10.6, respectively (see text and \\nExtended Data for details). Both refined crystal structure models are in good agreement with the \\npredicted structures for LaH 10 (Ref. 2) and LaH 11 (Ref. 3), except for the reflection at \\uf07e6.10° that \\ncannot be indexed to the P4/nmm  structural model (possibly it comes from an impurity phase). Black, \\nred and blue graphs correspond to experimental data, fitted data, and the difference between \\nexperimental and fitted data . Le Bail method was cho sen because it is impossible to extract the real \\nintensities of the reflections from the spotty patterns.  The distribution of these Fm-3m (d) and P4/nmm  \\n(e) phases throughout the samples is very smooth, contain ing more than 80% of the sample.  \\n  \\n \\nAuthor contributions  \\nA.D., P.K., V.M ., S.B ., M.K ., M.T. , and D.K. performed experiments on preparation of the \\nsamples and measuring the superconducting transition , S.M., D.G.,  F.B. and L.B. performed studies \\nunder external magnetic fields.  V.P., E.G., V.M., and M.K . performed X -ray diffraction studies . M.E., \\nV.M,  and S.M . wrote the manuscript, with input from all co -authors.  \\nA.D., P.K.,  V.M., S.B ., and M.K. contribute equally. M.E. guided the work . \\n \\nAcknowledgements.  M.E. is thankful to the Max Planck community for the invaluable support, and \\nU. Pöschl for the constant encouragement. L.B. is supported by DOE -BES through award DE -\\nSC0002613. S.M. acknowledges support from the FSU Provost Postdoctoral Fellowship Program. \\nThe NHMFL acknowledges support from the U.S. NSF Cooperative Grant No. DMR -1644779, and \\nthe State of Florida . Portions of this work were performed at GeoSoilEnviroCARS (The University of \\nChicago, Sector 13), Advanced Photon Source (APS), Argonne National Labor atory. \\nGeoSoilEnviroCARS is supported by the National Science Foundation - Earth Sciences (EAR - \\n1634415) and Department of Energy - GeoSciences (DE -FG02 -94ER14466). This research used \\nresources of the Advanced Photon Source, a U.S. Department of Energy (DO E) Office of Science \\nUser Facility operated for the DOE Office of Science by Argonne National Laboratory under Contract \\nNo. DE -AC02 -06CH11357.  \\n \\n \\nExtended data is available for this paper at https  \\nCorrespondence and requests for materials should be addresse d to M.E.  \\n \\nReferences  \\n \\n1 Drozdov, A. P., Eremets, M. I., Troyan, I. A., Ksenofontov, V. & Shylin, S. I. \\nConventional superconductivity at 203 K at high pressures. Nature 525, 73 (2015).  \\n2 Wang, H., Tse, J. S., Tanaka, K., Iitaka, T. i. & Ma, Y. Superconductive sodalite -like \\nclathrate calcium hydride at high pressures. PNAS 109, 6463 –6466 (2012).  \\n3 Peng, F.  et al.  Hydrogen Clathrate Structures in Rare Earth Hydrides at High \\nPressures: Possib le Route to Room -Temperature Superconductivity. Phys. Rev. Lett.  \\n119 107001 (2017).  \\n4 Liu, H.  et al.  Dynamics and superconductivity in compressed lanthanum \\nsuperhydride. Phys. Rev. B  98, 100102(R) (2018).  \\n5 Liu, H., Naumov, I. I., Hoffmann, R., Ashcroft, N. W. & Hemley, R. J. Potential high -\\nTc superconducting lanthanum and yttrium hydrides at high pressure. PNAS  114, \\n6990 (2017).  \\n6 Kruglov, I. A.  et al.  Superconductivity in LaH10: a new twist of the story. \\narXiv:1810.01113  (2018).  \\n7 Bednorz, J. G. & Muelle r, K. A. Possible High T Superconductivity in the Ba - La - \\nCu - 0 System. Z. Phys. B - Condensed Matter  64, 189 -193 (1986).  \\n8 Schilling, A., Cantoni, M., Guo, J. D. & Ott, H. R. Superconductivity above 130 K in \\nthe Hg –Ba–Ca–Cu–O system. Nature  363, 56–58 (1993).  '),\n",
       " Document(metadata={'source': 'data/Transition temp example.pdf', 'page': 5}, page_content='9 Gor’kov, L. P. & Kresin, V. Z. High Pressure and Road to Room Temperature \\nSuperconductivity. Rev. Modern Phys. 90, 011001 (2018).  \\n10 Allen, P. B. & Dynes, R. C. Transition temperature of strong -coupled \\nsuperconductors reanalyzed. Phys. Rev. B  12, 905 (1975).  \\n11 Cohen, M. L. Superconductivity in modified semiconductors and the path to higher \\ntransition temperatures. Supercond. Sci. Technol.  28, 043001 (2015).  \\n12 Ashcroft, N. W. Hydrogen Dominant Metallic Alloys: High Temperature \\nSuperconductors? Phys. Rev. Lett.  92, 187002 (2004).  \\n13 Pickard, C. J. & Needs, R. J. Ab initio random structure searching. J. Phys.: Condens. \\nMatter  23, 053201 (2011).  \\n14 Y.Wang, Lv, J., Zhu, L. & Ma, Y. Crystal structure prediction via particle -swarm \\noptimization. Phys. Re v. B 82, 094116 (2010).  \\n15 Oganov, A. R. & Glass, C. W. Crystal structure prediction using evolutionary \\nalgorithms: Principles and applications. J. Chem. Phys. 124, 244704 (2006).  \\n16 Zurek, E. in Handbook of Solid State Chemistry, 1    (ed Shinichi Kikkawa Richard \\nDronskowski, and Andreas Stein.) Ch. 15, 571 -605 (Wiley‐VCH Verlag GmbH & Co. \\nKGaA, 2017).  \\n17 Lüders, M.  et al.  Ab initio theory of superconductivity. I. Density functional \\nformalism and approximate functionals. Phys. Rev. B 72, 024545 (2005).  \\n18 Sanna, A.  et al.  Ab initio Eliashberg Theory: Making Genuine Predictions of \\nSuperconducting Features. J. Phys. Soc. Jpn. 87, 041012 (2018).  \\n19 Boeri, L. in Handbook of Materials Modeling    (ed S. Yip W. Andreoni)  (Springer \\nInternational Publishing AG, 2018 ). \\n20 Li, Y.  et al.  Pressure -stabilized superconductive yttrium hydrides. Sci Reports  5, 9948 \\n(2015).  \\n21 Liu, L.  et al.  Origin of High -Temperature Superconductivity in Compressed LaH10. \\narXiv:1811.08548  (2018).  \\n22 Geballe, Z. M.  et al.  Synthesis and Stability of Lanthanum Superhydrides. Angew. \\nChem. Int. Ed. 57, 688 (2018).  \\n23 Somayazulu, M.  et al.  Evidence for superconductivity above 260 K in lanthanum \\nsuperhydride at megabar pressur. arXiv:1808.07695  (2018).  \\n24 A. P. Drozdov  et al.  Superconductivity at 215 K in lanthanum hydride at high \\npressures. arXiv:1808.07039 (2018).  \\n25 Zhang, G.  et al.  Bosonic Anomalies in Boron -Doped Polycrystalline Diamond. Phys. \\nRev. Appl.  6, 064011 (2016).  \\n26 Bhaumik, A., Sachan, R., Gupta, S. & Narayan, J. Discovery of High -Temperature \\nSuperconductivity (Tc = 55 K) in B‑Doped Q‑Carbon. ACS Nano  11, 11915−11922 \\n(2017).  \\n '),\n",
       " Document(metadata={'source': 'data/Transition temp example.pdf', 'page': 6}, page_content='Methods  \\nWe typically synthesized lanthanum hydride via a direct reaction of lanthanum (Alfa Aesar \\n99.9% ) and hydrogen (99.999%) at high pressures. For that, a piece of La was placed into the hole , \\nwhich was drilled in an insulating gasket. Sample handling was done in an inert N 2 atmosphere in a \\nglovebox with O 2 and H 2O residual contents of <0.1 ppm. The DAC was preliminary clamped inside \\nthe glovebox and transferred into a hydrogen gas loader, opened there under a hydrogen atmospher e. \\nThe hydrogen gas was t hen pressurized up to \\uf07e 0.1 GPa, and the DAC was clamped, the pressure was \\ntypically increased to \\uf07e 2 GPa during the clamping. After that, the DAC was extracted from the gas \\nloader, and the pressure was further increased to a desirable value of \\uf07e 120-190 G Pa. \\nHeating of the sample with a laser leads to the formation of a variety of hydrides ( Extended Data \\nFigs 1-5). Formation of a particular hydride depends on the pressure, heating temperature, and the \\namount of hydrogen surrounding the sample. Hydrides con taining a large amount of hydrogen \\n(superhydrides) ( Extended Data Figs. 3 -5) were synthesized only under an evident excess of \\nhydrogen. Under a hydrogen deficient environment, LaH 3 (Extended Data Fig. 1) or a variety of \\ndifferent phases ( Extended Data Figs. 1,2,5) can form.  \\nFor the thermal treatment, one -sided pulsed radiation from a YAG laser  was focused onto a spot \\nhaving \\uf07e10 µm in diameter. The sample can be heated up to \\uf07e1500 K but typically the temperature \\nremained below \\uf07e700 K as we did not observe g lowing. This gentle heating was enough to initiate the \\nreaction as the sample expanded and reflected light from the spot where the laser was focused. The \\nlaser spot was scanned over the sample to perform a chemical reaction as complete and uniform as \\npossi ble. Some samples were prepared not from elemental lanthanum as a starting material but from \\nLaH 3 which was prepared and analysed earlier1. One of the advantages of this method is to have \\nhigher hydro gen content.  Finally, we found that the superhydride with Tc=250 K can be synthesized \\nwithout any laser heating by just keeping a clamped mixture of LaH 3 and hydrogen under a high \\npressure of \\uf07e140 GPa at room temperature for about two weeks.  \\nTo verify if the superconductivity is conventional, i.e. dependent upon the phonon frequencies, \\nwe substituted hydrogen with deuterium ( 99.75% purity).  \\nThe necessity to perform electrical measurements for a direct proof of superconductivity brings \\nother complications.  Typically, the diamonds used in DACs had a culet with a diameter of 40 -50 µm \\nand were bevelled at 8° to a diameter of about 250 µm. Tantalum electrodes were sputtered onto the \\nsurface of one of the diamond anvils in the van der Pauw four probe geometry. T otal resistance of the \\ncurrent leads was typically about 100 Ohm per electrode. A four probe measurement scheme was \\nessential to separate the sample signal from the parasitic resistance of the current leads.  A metallic \\ngasket (T301 steel) should be electri cally separated from the electrodes by an insulating layer. We \\nprepared this layer from a mixture of epoxy and CaF 2 (or a number of other similar materials, e.g. \\nMgO, CaSO 4, cBN ). The most difficult aspect is to ensure electrical contact between the sample  and \\nthe electrodes. For that the sample should be large enough to be squeezed between the anvils and \\npressed against the electrodes, but also small enough to accommodate an excess of surrounding \\nhydrogen. Typical sizes for these samples were  5-10 µm. The laser heating of the pressurized samples \\nis another experimental challenge due of the high thermal conductivity and comparatively high \\nvolume of the diamond anvils.  \\nAfter the synthesis, the temperature dependence of the electrical resistance was measured upon \\ncooling and warming of the samples. One observes hysteresis through this cycling due to the thermal \\nmass of the pressure cell. We present resistance measurements upon warming the DAC as it yields a \\nmore accurate temperature reading: the cell was warme d up slowly ( \\uf07e 0.2 K min-1) under an \\nisothermal environment (no coolant flow). Temperature was measured by a Si diode thermometer \\nattached to the DAC  with an accuracy of about 0.1 K. All electrical measurements were done at the \\ncurrent set in a range of 10-5-10-3 A, no apparent effect of a current value on the T c was observed.  \\nPressure was measured from the frequency of the vibron of the hydrogen surrounding the \\nsample2, and from the edge of the Raman signal from diamond pressure scale3. Typically, the pressure   \\nvalues determined from the H 2 (D2) vibron was lower than the ones determined from the diamond \\nRaman edge scale by 10 -30 GPa at the pressures of about 150  GPa.  We used the hydrogen \\n(deuterium) scale throughout the manuscript (except in cases where the hydrogen vibron could not be \\nobserved ).  \\nAltogether, we performed dozens of experiments. We used three types of DACs.  In particular, DACs \\nwith diameters of 20 mm and 8.8 mm were made of nonmagnetic materials, allowing measurements \\nunder magnetic fields at the NHMFL in Tallahassee. The X -ray diffra ction measurements were done '),\n",
       " Document(metadata={'source': 'data/Transition temp example.pdf', 'page': 7}, page_content='with wavelengths 0.3344 Å and 0.2952 Å, x-ray spot size ~3x4 µm, and Pilatus 1M CdTe \\ndetector  at the beamline 13 -IDD at GSECARS, Advanced Photon Source, Argonne National \\nLaboratory (Chicago) .  Primary processing and integration o f the powder patterns were made using \\nthe Dioptas software4. The Indexing and refinement were done with GSAS and EXPGUI packages5.  \\n \\n \\n \\n1 Meng, H., Kuzovnikov, M. A. & Tkacz, M. Phase stability of some rare earth \\ntrihydr ides under high pressure. Int. J. Hydrogen Energy  42, 29344 (2017).  \\n2 Eremets, M. I. & Troyan, I. A. Conductive dense hydrogen. Nature Materials  10, \\n927-931 (2011).  \\n3 Eremets, M. I. Megabar high -pressure cells for Raman measurements. J. Raman \\nSpectroscopy  34, 515–518 (2003).  \\n4 Prescher, C. & Prakapenka, V. B. DIOPTAS: a program for reduction of two -\\ndimensional X -ray diffraction data and data exploration. High Press. Research  35, \\n223-230 (2015).  \\n5 Toby, B. H. EXPGUI, a graphical user interface for GSAS. J. Appl. Cryst. 34, 210 -\\n213 (2001).  \\n '),\n",
       " Document(metadata={'source': 'data/Transition temp example.pdf', 'page': 8}, page_content='0 100 200 3000.00.51.0\\n  Resistance, Ohm\\nTemperature, KRTSCR/6, R/6, R/9, R/8Fig. 1. Observation of superconducting in LaH10. Superconducting transitions in lanthanum superhydride\\nLaH10measured in different samples synthesized from a La+H2mixture: red curve corresponds to the sample \\nheated up under 145 GPa displaying Tcof \\uf07e244 K, which shifts to \\uf07e249 K when the pressure is increased up to \\n151 GPa (orange curve); dark yellow curve corresponds to the sample heated under 135 GPa with a Tcof \\uf07e245 \\nK; blue curve corresponds to a sample heated under 150 GPa with Tc\\uf07e249 K. Red, orange and dark yellow \\ncurves show the sharpest transitions to zero -resistance upon cooling. Blue curve, as well as many others \\nsamples, shows onsets of the superconductive transition around the same temperatures but the sharp \\nsuperconducting step being distorted by the presence of an impurity phase and/or inhomogeneity in the sample. \\nThe resistance of the samples was divided by the shown coefficients for the sake of clarity. A vertical line \\ndrawn at 273 K marks the RTSC limit. Inset: pressure dependence of Tcfor the 6 different samples. \\n150 200 250240250\\n  Temperature, K\\nPressure (H2 vibron), GPa'),\n",
       " Document(metadata={'source': 'data/Transition temp example.pdf', 'page': 9}, page_content='Fig. 2 | Superconducting transition under an external magnetic field.\\na, Electrical resistance 𝑅as a function of the temperature 𝑇for LaH10under applied magnetic fields up to µ0H\\n= 9 T. The width of the superconducting transition remains essentially constant up to 9 T.  Both, the cool \\ndown and the warm up temperature sweeps are plotted. The superconducting critical temperatures were \\ndetermined as the average between both sweeps. An applied field of µ0H= 9 T reduces the onset of the \\nsuperconducting transition from ~250 K (as extracted from the warm up curve) to ~240 K.  Notice that the \\nstep observed in the superconducting transition measured at zero -field, which appears around 245 K, \\ndisappears under the application of a modest field of just µ0H= 3 T. The gradual disappearance of this step \\nvia the application of an external magnetic field is shown in the inset. Likely, this step results from \\ninhomogeneities in the superconducting sample. Similar behavior was found in disordered superconducting \\ndiamond doped with boron (Ref. 25).\\nb, Upper critical fields Hc2as a function of the temperature  following the criteria of 90% (solid markers) and \\n50% (open markers) of the resistance in the normal state. Solid curves are extrapolations resulting from fits to \\nthe Ginzburg -Landau expression in order to estimate the upper critical fields in the limit of zero temperatures. \\nThe temperature dependence of the observed upper critical fields 𝐻𝑐2(𝑇)were obtained from the 𝑅(𝑇,𝐻)data \\ndisplayed in Fig. 2(a). The Hc2s near Tcincrease nearly linearly with Tas Tis lowered. Here, we use a simple \\nGinzburg -Landau expression 𝐻𝑐2𝑇=𝐻𝑐2(0)1−ൗ𝑇𝑇𝑐2to estimate the upper critical fields \\n𝐻𝑐20inthelimitofzerotemperatures .The Ginzburg -Landau coherence lengths deduced from these \\n𝐻𝑐2(0)values ranges between 𝜉=1.56and 1.86 nm.\\n'),\n",
       " Document(metadata={'source': 'data/Transition temp example.pdf', 'page': 10}, page_content='(a)(b)\\n(c)\\n(d) (e)\\nFig. 3| Structural analysis . X-ray diffraction studies of superconducting lanthanum hydrides. (a) Cake representation of \\nthe typical X -ray powder diffraction pattern measured for the sample showing a superconducting step at \\uf07e249 K under 150 \\nGPa (blue curve in Figure 1). The dominant face -centred Fm-3mphase gives a spotty powder pattern. Integrated powder \\npatterns for samples synthesized from the La+H2mixture exhibiting a Tcof \\uf07e249 K under 150 GPa (b) and the La+D2\\nmixture with a Tc\\uf07e140 K at 142 GPa (c). Indexation and refinement of these powder diffraction patterns yield two different \\nphases, i.e. Fm-3m(a= 5.1019(5) Å, V= 132.80(4) Å3) and P4/nmm (a= 3.7258(6) Å, c= 5.0953(12) Å and V = 70.73(2) \\nÅ3) with stoichiometries corresponding to LaH9.6and LaD10.6, respectively (see text and Extended Data for details). Both \\nrefined crystal structure models are in good agreement with the predicted structures for LaH10(Ref. 4,5) and LaH11(Ref. \\n3), except for the reflection at \\uf07e6.10°that cannot be indexed to the P4/nmm structural model (possibly it comes from an \\nimpurity phase). Black, red and blue graphs correspond to experimental data, fitted data, and the difference between \\nexperimental and fitted data . Le Bail method was chosen because it is impossible to extract the real intensities of the \\nreflections from the spotty patterns. The distribution of these Fm-3m(d) and P4/nmm (e) phases throughout the samples is \\nvery smooth, containing more than 80% of the sample. \\n4 6 8 10 12 14 16 18 200123\\n4 6 8 10 12 14 16 18 200122\\uf071, deg.\\n d, Å\\n(422)\\n(511)(420)(331)(400)(222)(311)(220)(200)Intensity, arb. units Iexp\\n Icalc\\n Iexp- Icalc(111)Fm-3m \\uf06c = 0.3344 Å 4 32.5 2 1.5 1\\n\\uf06c = 0.2952 Å4 32.5 2 1.5\\n d, ÅIntensity, arb. units\\n2\\uf071, deg. P4/nmm1'),\n",
       " Document(metadata={'source': 'data/Transition temp example.pdf', 'page': 11}, page_content='Phases formed under  hydrogen deficit  \\nWe start by discussin g the lowest hydride LaH 3, which  is well studied at ambient and at \\nlow pressures. LaH 3 is an insulator  and exhibits a pronounced Raman spectru m1. In our studies,  \\nwe found that  at P > 100 GPa, LaH 3 behaves as a poor metal or  a semimetal , and it does not exhibit \\nSC upon cooling down to \\uf07e5 K under  pressure s of at least 157 GPa.  \\nWithin the  DAC, the lanthanum sample readily reacts with the surrounding hydrogen to \\nform LaH 3, according to the Raman spectrum . This happens  at P\\uf07e10 GPa without any heating \\ntreatment  or at room  temperature . From the analysis of the X-ray powder diffraction (Extended \\nData  Fig. 1) a t the high pressure of 152 GPa, we determined  the crystal structure of the sample to \\nbe Fm3m  with the refined lattice parameter a = 4.3646(5) Å ( V = 83.14(3)  Å3, per formula unit V \\n= 20.78(3) Å3). The LaH 3 stoichiometry for the sample was confirmed from the volume occupied \\nby the three  H atoms , that  is \\uf07e5.7 Å3 which is obtained after the extraction  of the volume of the La \\natoms VLa=15.1 Å3 (calculated using the equation of states ( EOS ) for La2) from the volume  per \\nformula unit  V. The stoichiometry of the compound cannot be h igher than 1:3  (e. g. LaH 4) since \\nthe volume per an H atom , VH, is \\uf07e2 Å3 according to extensive studies of hydrides under high \\npressures3. Lower stoichiometry  (e.g. LaH 2) is also impossible according to Ref4, because  it is not \\nstable at pressures above 11 GPa and separates into LaH 3 and LaH x, where x is 0.25 or 0.6 - 0.7. \\nThus, the only stoichiometry that can correspond to the experimentally found cubic phase  is LaH 3. \\nFrom the LaH 3 stoichiometry we can accurately determine the volume taken by one H atom  \\uf02d \\nwhich is \\uf07e1.9 Å3 at 150 GPa . This estimation is valid even for higher pressures  as the unit-cell \\nparameter a = 4.313(2) Å refined for the fcc LaH 3 phase found in the sample at 178 GPa gave  the \\nsame VH \\uf07e1.9 Å3. The obtained 1.9 Å3 volume taken by one H atom at 150 GPa in LaH 3 gave us a \\nkey to estimate the stoichiometry of higher hydrides (or deuterides) as described  in the main text . \\nIn samples  with an apparent hydrogen deficiency we found  superconductivity but with \\nlower Tcs. In particular,  in the unheated mixture of La and H 2 pressurized up to  178 GPa , we \\nobserved a pronounced and reproducible  superconducting step at Tc \\uf07e70 K  (Extended Data Fig. \\n2). The shift in Tc to a lower temperature of \\uf07e49 K by an external magnetic field of 5 T further \\nverifies the  superconducting nature of this transition.  By laser heating,  the sample absorbed the \\nrest of the hydrogen , its volume  increased , and it  transform ed into a new superconducting phase \\nwith Tc \\uf07e112 K ( Extended Data Fig. 2 ). This suggest s that increasing the hydrogen content \\n(stoichiometry) would lead to an increas e in Tc. This superconductivity  was reproduced in another \\nsample synthesized under  152 GPa, with almost the same  value of Tc of \\uf07e108 K. Notice that Tc \\nincreases with pressure for this phase.  X-ray diffraction patterns of the laser heated samples with \\nTcs of \\uf07e110 K  and 70 K  were found  to be  very complicated  to analyze,  perhaps  because these \\nsamples are accompanied by other phase s (Extended Data Fig. 1).  According to theoretical \\npredictions , the following stable metal lic compounds  could exist  at P \\uf07e150 GPa : LaH 4, LaH 6 and \\nLaH 8,5 (or only LaH 66). The calculated Tcs are 5 -10 K under  300 GPa, 150 -160 K at 100 GPa and \\n114-150 K under  300 GPa5, respectively. The experimentally found phase with Tc \\uf07e110 K probably \\ncan be assigned to either LaH 6 or LaH 8. \\n \\nPhased formed under  an excess of hydrogen  '),\n",
       " Document(metadata={'source': 'data/Transition temp example.pdf', 'page': 12}, page_content='Superconductivity with a much higher  Tc = 215 K was  found in sample s surrounded by a \\nlarge r amount of hydrogen  which seems to have been absorbed by the synthesis  procedure  \\n(Extended Data Fig. 3 ); it is described  in detail in Ref.7. Apparently , this phase competes with the \\nphase exhibiting Tc = 250 K  as it can be synthesized under  the same pressures  following the  \\naforementioned laser treatment  procedure .   \\n \\n1 Meng, H., Kuzovnikov, M. A. & Tkacz, M. Phase stability of some rare earth trihydrides under high \\npressure. Int. J. Hydrogen Energy  42, 29344 (2017).  \\n2 Geballe, Z. M.  et al.  Synthesis and Stability of Lanthanum Superhydrides. Angew. Chem. Int. Ed. \\n57, 688 (2018).  \\n3 Fukai, Y. The Metal -Hydrogen System . 2 edn,  (Springer -Verlag, 2005).  \\n4 Machida, A., Watanuki, T., Kawana, D. & Aoki, K. Phase separation of la nthanum hydride under \\nhigh pressure. Phys. Rev. B 83 054103 (2011).  \\n5 Liu, H., Naumov, I. I., Hoffmann, R., Ashcroft, N. W. & Hemley, R. J. Potential high -Tc \\nsuperconducting lanthanum and yttrium hydrides at high pressure. PNAS  114, 6990 (2017).  \\n6 Peng, F.  et al.  Hydrogen Clathrate Structures in Rare Earth Hydrides at High Pressures: Possible \\nRoute to Room -Temperature Superconductivity. Phys. Rev. Lett.  119 107001 (2017).  \\n7 A. P. Drozdov  et al.  Superconductivity at 215 K in lanthanum hydride at high pressur es. \\narXiv:1808.07039 (2018).  \\n '),\n",
       " Document(metadata={'source': 'data/Transition temp example.pdf', 'page': 13}, page_content='a) b)\\ne) d)\\nExtended Data Fig. 1. Characterization of the sample synthesized from a mixture of La+H2(in deficiency) at \\n150-180 GPa exhibiting superconductivity after laser heating. ( a,b) Photographs of the sample exhibiting \\nsuperconductivity with Tc \\uf07e108 K before (a)  and after (b)  laser heating  at \\uf07e1000 K at 152 GPa. Photos are \\ntaken in the combined transmitting -reflecting illumination. After thermal treatment, the sample size increased \\nconsiderably and it started to reflect the incident light. (c) Typical integrated X -ray powder patterns for \\ndifferent samples synthesized from heating La in H2(in deficiency). The patterns seem like the ones from a \\nmixture of different phases, and thus they cannot be indexed as a single phase. The black curve is for the \\nsample synthesized at 152 GPa with Tc\\uf07e108 K. Blue and green curves correspond to samples synthesized at \\n178 GPa (Tc\\uf07e112 K) and 150 GPa (Tc\\uf07e70 K), respectively. The red graph and red stars indicates the Fm-3m\\nphase of LaH3(two of the samples contain some LaH3phase). (d) The integrated X -ray powder pattern of the \\nsample shown in (b) measured in the center of the sample. It corresponds to almost pure Fm-3mphase of LaH3. \\nBlack, red and blue graphs correspond to experimental data, fitted data, and the difference between \\nexperimental and fitted data. (e) The distribution of the fccphase of LaH3in the heated sample, shown in (b), \\nobtained from mapping the sample with X -ray focused beam. The brightest part in the center corresponds to the \\npowder pattern presented in (d). c)\\nExtended Data Fig. 2. Superconductive transitions occurring in different samples prepared from a mixture of \\nLa+H2, when there is H2deficiency. Resistance was normalized to the value at 300 K for each sample. The \\nunheated  mixture at 178 GPa, black curve,  shows onset of the superconducting transition at \\uf07e70 K, which \\nshifts with magnetic field to \\uf07e49 K at 5 T, red curve. The same superconductivity with Tc\\uf07e70 K,  magenta \\ncurve, was found in another sample prepared under 150 GPa by laser heating of La+H2mixture (in a great \\ndeficiency of H2). After subsequent gradual laser heating of the first sample, black curve, up to \\uf07e1500 K, the \\nsample absorbed the rest of the hydrogen, its volume increased, and a new superconductive transition \\nappeared at \\uf07e112 K, blue curve. After several heating cycles, only one sharp transition at 112 K remained, \\ngreen curve.\\n2 3 4 5 6*\\n***\\n**\\n*\\n  Intensity, a.u.\\nQ, Е-1*\\n0 50 100 1500.00.20.40.60.8\\n  R / R 300K, units\\nTemperature, K\\n6 8 10 12 14 16 18 20-5051015 d, Å\\n3 2.5 2 1.5\\n Intensity, arb.units\\n2\\uf071, deg. Iexp\\n Icalc\\n Iexp - I calc\\n fcc-LaH3\\uf06c = 0.3344 Å1'),\n",
       " Document(metadata={'source': 'data/Transition temp example.pdf', 'page': 14}, page_content='0 100 200010002000\\n  \\n139 GPa\\n145 GPa\\n152 GPa Resistance, Ohm\\nTemperature, K\\n140 145 150150155160165\\n  Tempearture, K\\nPressure, GPaExtended Data Fig. 3. Superconductivity in a sample synthesized at 159 GPa from a mixture of La and an \\nexcess of H2. View of the sample inside DAC with the attached four electrodes at transmission illumination (a) \\nbefore and (b) after laser heating. As the result of heating, the sample significantly increased in volume and \\nnearly filled the whole sample space, but the sample is still surrounded by hydrogen. (c) Superconducting \\nsteps at the temperature dependence of resistance at different pressures. The pressure dependence of the onset \\nof Tcis shown in the inset \\uf02dTcshifts to lower temperatures as the pressure is increased. (c)\\n(a)\\n(b)Sampl\\ne\\nLeads\\nExtended Data Fig. 4. Lanthanum sample heated by laser in excess of deuterium. (a) Photograph of the \\nheated La -D sample at 139 GPa taken in transmission illumination. (b) Superconducting transitions at \\ndifferent pressures (the pressure was determined from the D2 vibron scale (Eremets, Troyan Nat. Mat. , \\n10, 927–931 (2011)). (a) (b)\\nLeads                       La sample\\n180 200 2200.000.050.10\\n140 160210215\\n  Tc, K\\nPressure, GPa\\n170 GPa\\n  \\n150 GPa\\n160 GPaResistance, Ohm\\nTemperature, K'),\n",
       " Document(metadata={'source': 'data/Transition temp example.pdf', 'page': 15}, page_content='Extended Data Fig. 5. Superconducting transitions in hydrides synthesized from lanthanum in hydrogen \\n(black plots) and deuterium (blue plots) atmospheres. The curves were scaled for a more direct comparison. \\nAmong the dozens of experiments performed, there are only four distinct, reproducible superconducting \\ntransitions in lanthanum hydrides with Tc \\uf07e250 K, \\uf07e215 K, \\uf07e110 K, and three transitions in lanthanum \\ndeuterides with Tc\\uf07e160 K, 140 K and \\uf07e70 K.  For the hydrides series, we determined the structure only for the \\nhighest Tcphase and obtained Fm-3m structure with the stoichiometry LaH9.6(Figure 3). For the deuterides\\nseries, we did not determine the structure for the phase with the highest Tc\\uf07e160 K, but found that the next \\nphase with Tc  \\uf07e140 K has different, tetragonal P4/nmm structure and LaD10.6stoichiometry (Figure 3).\\n0 100 200 3000.00.61.2 hydrogen\\ndeuteriumResistance, arb. units\\nTemperature, K')]"
      ]
     },
     "execution_count": 42,
     "metadata": {},
     "output_type": "execute_result"
    }
   ],
   "source": [
    "loader = PyPDFLoader(\"data/Transition temp example.pdf\")#\n",
    "# loader = PyPDFLoader(\"data/FeSe_doping.pdf\")\n",
    "pages = loader.load()\n",
    "pages"
   ]
  },
  {
   "cell_type": "code",
   "execution_count": 43,
   "metadata": {},
   "outputs": [
    {
     "name": "stdout",
     "output_type": "stream",
     "text": [
      "Split into 74 chunks\n"
     ]
    }
   ],
   "source": [
    "# split the abstract into chunks for RAG\n",
    "splitter = RecursiveCharacterTextSplitter(\n",
    "    chunk_size=1000,\n",
    "    chunk_overlap=200,\n",
    "    length_function=len,\n",
    "    separators=['.  \\n', '. \\n', '.\\n', '. ', '.'],\n",
    ")\n",
    "\n",
    "chunks = splitter.split_documents(pages)\n",
    "print(f'Split into {len(chunks)} chunks')"
   ]
  },
  {
   "cell_type": "code",
   "execution_count": 44,
   "metadata": {},
   "outputs": [],
   "source": [
    "def get_embedding_function():\n",
    "    embeddings = OpenAIEmbeddings(\n",
    "        model=\"text-embedding-ada-002\", openai_api_key=OPENAI_API_KEY\n",
    "    )\n",
    "    return embeddings\n",
    "\n",
    "embedding_function = get_embedding_function()\n",
    "# test_vector = embedding_function.embed_query(\"cat\")"
   ]
  },
  {
   "cell_type": "code",
   "execution_count": 45,
   "metadata": {},
   "outputs": [],
   "source": [
    "from langchain.evaluation import load_evaluator\n",
    "\n",
    "evaluator = load_evaluator(evaluator=\"embedding_distance\", \n",
    "                            embeddings=embedding_function)\n",
    "\n",
    "# evaluator.evaluate_strings(prediction=\"Feynman\", reference=\"physics\")"
   ]
  },
  {
   "cell_type": "code",
   "execution_count": 46,
   "metadata": {},
   "outputs": [],
   "source": [
    "import uuid\n",
    "\n",
    "def create_vectorstore(chunks, embedding_function, vectorstore_path):\n",
    "\n",
    "    # Create a list of unique ids for each document based on the content\n",
    "    ids = [str(uuid.uuid5(uuid.NAMESPACE_DNS, doc.page_content)) for doc in chunks]\n",
    "    \n",
    "    # Ensure that only unique docs with unique ids are kept\n",
    "    unique_ids = set()\n",
    "    unique_chunks = []\n",
    "    \n",
    "    unique_chunks = [] \n",
    "    for chunk, id in zip(chunks, ids):     \n",
    "        if id not in unique_ids:       \n",
    "            unique_ids.add(id)\n",
    "            unique_chunks.append(chunk) \n",
    "\n",
    "    # Create a new Chroma database from the documents\n",
    "    vectorstore = Chroma.from_documents(documents=unique_chunks, \n",
    "                                        ids=list(unique_ids),\n",
    "                                        embedding=embedding_function, \n",
    "                                        persist_directory = vectorstore_path)\n",
    "\n",
    "    # vectorstore.persist()\n",
    "    \n",
    "    return vectorstore"
   ]
  },
  {
   "cell_type": "code",
   "execution_count": 47,
   "metadata": {},
   "outputs": [],
   "source": [
    "# Create vectorstore\n",
    "vectorstore = create_vectorstore(chunks=chunks, \n",
    "                                 embedding_function=embedding_function, \n",
    "                                 vectorstore_path=\"vectorstore_2\")"
   ]
  },
  {
   "cell_type": "code",
   "execution_count": 48,
   "metadata": {},
   "outputs": [],
   "source": [
    "# Load vectorstore\n",
    "vectorstore = Chroma(persist_directory=\"vectorstore_2\", embedding_function=embedding_function)"
   ]
  },
  {
   "cell_type": "code",
   "execution_count": 49,
   "metadata": {},
   "outputs": [
    {
     "data": {
      "text/plain": [
       "(74, 74)"
      ]
     },
     "execution_count": 49,
     "metadata": {},
     "output_type": "execute_result"
    }
   ],
   "source": [
    "len(chunks), len(vectorstore)"
   ]
  },
  {
   "cell_type": "code",
   "execution_count": 50,
   "metadata": {},
   "outputs": [
    {
     "data": {
      "text/plain": [
       "[Document(metadata={'page': 1, 'source': 'data/Transition temp example.pdf'}, page_content='. \\nThe extrapolation of the  temperature depende nt upper critical fields 𝐻𝑐2(𝑇) towards T = 0 K,  Fig. 2b,  \\nyields values between 95 and 136 T for 𝐻𝑐2(0). Notice the two steps  near 245 K and 230 K in the \\nsuperconducting transition at zero -field. The higher  temperature step gradually broadens with \\nincreasing magnetic field and completely disappears above 3  T. This behavior is consistent with \\ninhomogeneous superconductivity. While it is difficult to investigate the local inhomogeneity of the \\nsuperconducting state in a DAC, multiple examples of m ulti-step transitions in inhomogeneous samples'),\n",
       " Document(metadata={'page': 5, 'source': 'data/Transition temp example.pdf'}, page_content='9 Gor’kov, L. P. & Kresin, V. Z. High Pressure and Road to Room Temperature \\nSuperconductivity. Rev. Modern Phys. 90, 011001 (2018).  \\n10 Allen, P. B. & Dynes, R. C. Transition temperature of strong -coupled \\nsuperconductors reanalyzed. Phys. Rev. B  12, 905 (1975).  \\n11 Cohen, M. L. Superconductivity in modified semiconductors and the path to higher \\ntransition temperatures. Supercond. Sci. Technol.  28, 043001 (2015).  \\n12 Ashcroft, N. W. Hydrogen Dominant Metallic Alloys: High Temperature \\nSuperconductors? Phys. Rev. Lett.  92, 187002 (2004).  \\n13 Pickard, C. J. & Needs, R. J. Ab initio random structure searching. J. Phys.: Condens. \\nMatter  23, 053201 (2011).  \\n14 Y.Wang, Lv, J., Zhu, L. & Ma, Y. Crystal structure prediction via particle -swarm \\noptimization. Phys. Re v. B 82, 094116 (2010).  \\n15 Oganov, A. R. & Glass, C. W. Crystal structure prediction using evolutionary \\nalgorithms: Principles and applications. J. Chem. Phys. 124, 244704 (2006)'),\n",
       " Document(metadata={'page': 1, 'source': 'data/Transition temp example.pdf'}, page_content='. They also observed a series of resistance anomalies at \\ntemperatures as high as 280K. However, neither a zero resistance  state nor additional confirmation s \\n(like the Meissner effect  or isotopic effects  or the effect of  an external magnetic field  on the transition \\ntemperature ) was provided . Simultaneously,  a record superconducti ng transition of Tc = 215 K  in LaH x \\ndisplaying zero resistance  after the transition was reported24'),\n",
       " Document(metadata={'page': 9, 'source': 'data/Transition temp example.pdf'}, page_content='.\\na, Electrical resistance 𝑅as a function of the temperature 𝑇for LaH10under applied magnetic fields up to µ0H\\n= 9 T. The width of the superconducting transition remains essentially constant up to 9 T.  Both, the cool \\ndown and the warm up temperature sweeps are plotted. The superconducting critical temperatures were \\ndetermined as the average between both sweeps. An applied field of µ0H= 9 T reduces the onset of the \\nsuperconducting transition from ~250 K (as extracted from the warm up curve) to ~240 K.  Notice that the \\nstep observed in the superconducting transition measured at zero -field, which appears around 245 K, \\ndisappears under the application of a modest field of just µ0H= 3 T. The gradual disappearance of this step \\nvia the application of an external magnetic field is shown in the inset. Likely, this step results from \\ninhomogeneities in the superconducting sample. Similar behavior was found in disordered superconducting \\ndiamond doped with boron (Ref. 25)')]"
      ]
     },
     "execution_count": 50,
     "metadata": {},
     "output_type": "execute_result"
    }
   ],
   "source": [
    "# Create retriever and get relevant chunks\n",
    "retriever = vectorstore.as_retriever(search_type=\"similarity\")\n",
    "# relevant_chunks = retriever.invoke(\"Material superconducting transition temperature (Tc) i.e., number with unit (K) or range (K-K) or superconducting critical temperature (Tc) in the abstract\")\n",
    "relevant_chunks = retriever.invoke(\"transition temperature\")\n",
    "relevant_chunks"
   ]
  },
  {
   "cell_type": "code",
   "execution_count": 56,
   "metadata": {},
   "outputs": [
    {
     "name": "stdout",
     "output_type": "stream",
     "text": [
      ". \n",
      "The extrapolation of the  temperature depende nt upper critical fields 𝐻𝑐2(𝑇) towards T = 0 K,  Fig. 2b,  \n",
      "yields values between 95 and 136 T for 𝐻𝑐2(0). Notice the two steps  near 245 K and 230 K in the \n",
      "superconducting transition at zero -field. The higher  temperature step gradually broadens with \n",
      "increasing magnetic field and completely disappears above 3  T. This behavior is consistent with \n",
      "inhomogeneous superconductivity. While it is difficult to investigate the local inhomogeneity of the \n",
      "superconducting state in a DAC, multiple examples of m ulti-step transitions in inhomogeneous samples\n"
     ]
    }
   ],
   "source": [
    "print(relevant_chunks[0].page_content)"
   ]
  },
  {
   "cell_type": "code",
   "execution_count": 57,
   "metadata": {},
   "outputs": [],
   "source": [
    "# Prompt template\n",
    "PROMPT_TEMPLATE = \"\"\"\n",
    "You are an assistant for question-answering tasks.\n",
    "Use the following pieces of retrieved context to answer\n",
    "the question. If the answer isn't in the text, don't give\n",
    "a positive answer (there is the option to output \"None\").\n",
    "Do not add any information that is not present in the text.\n",
    "\n",
    "{context}\n",
    "\n",
    "---\n",
    "\n",
    "Answer the question based on the above context: {question}\n",
    "\"\"\""
   ]
  },
  {
   "cell_type": "code",
   "execution_count": 59,
   "metadata": {},
   "outputs": [
    {
     "name": "stdout",
     "output_type": "stream",
     "text": [
      "Human: \n",
      "You are an assistant for question-answering tasks.\n",
      "Use the following pieces of retrieved context to answer\n",
      "the question. If the answer isn't in the text, don't give\n",
      "a positive answer (there is the option to output \"None\").\n",
      "Do not add any information that is not present in the text.\n",
      "\n",
      ". \n",
      "The extrapolation of the  temperature depende nt upper critical fields 𝐻𝑐2(𝑇) towards T = 0 K,  Fig. 2b,  \n",
      "yields values between 95 and 136 T for 𝐻𝑐2(0). Notice the two steps  near 245 K and 230 K in the \n",
      "superconducting transition at zero -field. The higher  temperature step gradually broadens with \n",
      "increasing magnetic field and completely disappears above 3  T. This behavior is consistent with \n",
      "inhomogeneous superconductivity. While it is difficult to investigate the local inhomogeneity of the \n",
      "superconducting state in a DAC, multiple examples of m ulti-step transitions in inhomogeneous samples\n",
      "\n",
      "---\n",
      "\n",
      "9 Gor’kov, L. P. & Kresin, V. Z. High Pressure and Road to Room Temperature \n",
      "Superconductivity. Rev. Modern Phys. 90, 011001 (2018).  \n",
      "10 Allen, P. B. & Dynes, R. C. Transition temperature of strong -coupled \n",
      "superconductors reanalyzed. Phys. Rev. B  12, 905 (1975).  \n",
      "11 Cohen, M. L. Superconductivity in modified semiconductors and the path to higher \n",
      "transition temperatures. Supercond. Sci. Technol.  28, 043001 (2015).  \n",
      "12 Ashcroft, N. W. Hydrogen Dominant Metallic Alloys: High Temperature \n",
      "Superconductors? Phys. Rev. Lett.  92, 187002 (2004).  \n",
      "13 Pickard, C. J. & Needs, R. J. Ab initio random structure searching. J. Phys.: Condens. \n",
      "Matter  23, 053201 (2011).  \n",
      "14 Y.Wang, Lv, J., Zhu, L. & Ma, Y. Crystal structure prediction via particle -swarm \n",
      "optimization. Phys. Re v. B 82, 094116 (2010).  \n",
      "15 Oganov, A. R. & Glass, C. W. Crystal structure prediction using evolutionary \n",
      "algorithms: Principles and applications. J. Chem. Phys. 124, 244704 (2006)\n",
      "\n",
      "---\n",
      "\n",
      ". They also observed a series of resistance anomalies at \n",
      "temperatures as high as 280K. However, neither a zero resistance  state nor additional confirmation s \n",
      "(like the Meissner effect  or isotopic effects  or the effect of  an external magnetic field  on the transition \n",
      "temperature ) was provided . Simultaneously,  a record superconducti ng transition of Tc = 215 K  in LaH x \n",
      "displaying zero resistance  after the transition was reported24\n",
      "\n",
      "---\n",
      "\n",
      ".\n",
      "a, Electrical resistance 𝑅as a function of the temperature 𝑇for LaH10under applied magnetic fields up to µ0H\n",
      "= 9 T. The width of the superconducting transition remains essentially constant up to 9 T.  Both, the cool \n",
      "down and the warm up temperature sweeps are plotted. The superconducting critical temperatures were \n",
      "determined as the average between both sweeps. An applied field of µ0H= 9 T reduces the onset of the \n",
      "superconducting transition from ~250 K (as extracted from the warm up curve) to ~240 K.  Notice that the \n",
      "step observed in the superconducting transition measured at zero -field, which appears around 245 K, \n",
      "disappears under the application of a modest field of just µ0H= 3 T. The gradual disappearance of this step \n",
      "via the application of an external magnetic field is shown in the inset. Likely, this step results from \n",
      "inhomogeneities in the superconducting sample. Similar behavior was found in disordered superconducting \n",
      "diamond doped with boron (Ref. 25)\n",
      "\n",
      "---\n",
      "\n",
      "Answer the question based on the above context: What is the material used in the paper?\n",
      "\n"
     ]
    }
   ],
   "source": [
    "# Concatenate context text\n",
    "context_text = \"\\n\\n---\\n\\n\".join([doc.page_content for doc in relevant_chunks])\n",
    "\n",
    "# Create prompt\n",
    "prompt_template = ChatPromptTemplate.from_template(PROMPT_TEMPLATE)\n",
    "prompt = prompt_template.format(context=context_text, \n",
    "                                question=\"What is the material used in the paper?\")\n",
    "print(prompt)"
   ]
  },
  {
   "cell_type": "code",
   "execution_count": 61,
   "metadata": {},
   "outputs": [
    {
     "data": {
      "text/plain": [
       "AIMessage(content='None', additional_kwargs={'refusal': None}, response_metadata={'token_usage': {'completion_tokens': 1, 'prompt_tokens': 513, 'total_tokens': 514, 'completion_tokens_details': {'audio_tokens': None, 'reasoning_tokens': 0}, 'prompt_tokens_details': {'audio_tokens': None, 'cached_tokens': 0}}, 'model_name': 'gpt-4o-mini-2024-07-18', 'system_fingerprint': 'fp_f59a81427f', 'finish_reason': 'stop', 'logprobs': None}, id='run-3df9d951-df9e-40a1-aaca-d51b26334f05-0', usage_metadata={'input_tokens': 513, 'output_tokens': 1, 'total_tokens': 514, 'input_token_details': {'cache_read': 0}, 'output_token_details': {'reasoning': 0}})"
      ]
     },
     "execution_count": 61,
     "metadata": {},
     "output_type": "execute_result"
    }
   ],
   "source": [
    "def format_docs(docs):\n",
    "    return \"\\n\\n\".join(doc.page_content for doc in docs)\n",
    "\n",
    "rag_chain = (\n",
    "            {\"context\": retriever | format_docs, \"question\": RunnablePassthrough()}\n",
    "            | prompt_template\n",
    "            | llm\n",
    "        )\n",
    "rag_chain.invoke(\"What is the material used in the paper?\")"
   ]
  },
  {
   "cell_type": "code",
   "execution_count": 62,
   "metadata": {},
   "outputs": [],
   "source": [
    "from typing import Tuple, List\n",
    "\n",
    "# class IntWithSources(BaseModel):\n",
    "#     \"\"\"An answer to the question, with sources and reasoning.\"\"\"\n",
    "#     answer: int = Field(description=\"Answer to question\")\n",
    "#     sources: str = Field(description=\"Full direct text chunk from the context used to answer the question\")\n",
    "#     reasoning: str = Field(description=\"Explain the reasoning of the answer based on the sources\")\n",
    "\n",
    "class StrWithSources(BaseModel):\n",
    "    \"\"\"An answer to the question, with sources and reasoning.\"\"\"\n",
    "    answer: str = Field(description=\"Answer to question\")\n",
    "    sources: str = Field(description=\"Full direct text chunk from the context used to answer the question\")\n",
    "    reasoning: str = Field(description=\"Explain the reasoning of the answer based on the sources\")\n",
    "\n",
    "# class TransitionTemp(BaseModel):\n",
    "#     \"\"\"An answer to the question, with sources and reasoning.\"\"\"\n",
    "#     answer: Tuple[str, int, str] = Field(description=\"Answer to question: Material, critical temperature, and temperature unit, e.g. ('CuO4', 8, 'K')\")\n",
    "#     sources: str = Field(description=\"Full direct text chunk from the context used to answer the question\")\n",
    "#     reasoning: str = Field(description=\"Explain the reasoning of the answer based on the sources\")\n",
    "\n",
    "class TransitionTemp(BaseModel):\n",
    "    \"\"\"Information related to the transition temperature, with sources and reasoning.\"\"\"\n",
    "    material: str = Field(description=\"Material used (chemical formula), e.g. 'CuO4' - answer should not contain any unknowns, e.g. 'x' - \\\n",
    "                          if there is no valid answer, the answer should be 'None'\")\n",
    "    critical_temp: str = Field(description=\"Critical temperature (Tc), e.g. '8 K' - must contain the temperature unit, \\\n",
    "                               and must be a direct quote from the text - if there is no numerical answer, the answer should be 'None'\")\n",
    "    sources: str = Field(description=\"Full direct text chunk from the context used to answer the question\")\n",
    "    reasoning: str = Field(description=\"Explain the reasoning of the answer based on the sources\")\n",
    "    \n",
    "class ExtractedInfo(BaseModel):\n",
    "    \"\"\"Extracted information about the research article\"\"\"\n",
    "    paper_summary: StrWithSources\n",
    "    transition_temp: TransitionTemp"
   ]
  },
  {
   "cell_type": "code",
   "execution_count": null,
   "metadata": {},
   "outputs": [],
   "source": [
    "class TransitionTemp(BaseModel):\n",
    "    \"\"\"Information related to the transition temperature, with sources and reasoning.\"\"\"\n",
    "    material: str = Field(description=\"Material used (chemical formula), e.g. 'CuO4' - answer should not contain any unknowns, e.g. 'x' - \\\n",
    "                          if there is no valid answer, the answer should be 'None'\")\n",
    "    critical_temp: str = Field(description=\"Critical temperature (Tc), e.g. '8 K' - must contain the temperature unit, \\\n",
    "                               and must be a direct quote from the text - if there is no numerical answer, the answer should be 'None'\")\n",
    "    sources: str = Field(description=\"Full direct text chunk from the context used to answer the question\")\n",
    "    reasoning: str = Field(description=\"Explain the reasoning of the answer based on the sources\")"
   ]
  },
  {
   "cell_type": "code",
   "execution_count": 63,
   "metadata": {},
   "outputs": [
    {
     "data": {
      "text/plain": [
       "ExtractedInfo(paper_summary=StrWithSources(answer='The research paper discusses the quest for room temperature superconductivity (RTSC), highlighting the limits of known superconductors with critical temperatures (Tcs) below approximately 30 K until the discovery of cuprates, which can reach Tcs up to 164 K. It mentions ongoing theoretical and experimental efforts to find materials that can exhibit RTSC, particularly focusing on yttrium super hydrides and carbon-based materials, with an encouraging example of superconductivity found in Q-carbon with Tc approximately 55 K.', sources='The quest for room temperature superconductivity is a longstanding challenge. Superconductivity was considered as a low-temperature phenomenon as the known materials had Tcs inferior to 30 K, until 1986, when Bednorz and Müller discovered the cuprates – copper based superconductors with enormous Tcs that can reach 164 K – or the so-called high temperature superconductors (HTSCs). The cuprates stimulated an intense quest for room temperature superconductivity. However, the maximum value of Tc has remained at the same for 25 years despite tremendous efforts.', reasoning='The summary was derived from the context discussing the history of superconductivity, the discovery of cuprates, and the ongoing search for materials that can achieve room temperature superconductivity.'), transition_temp=TransitionTemp(material='None', critical_temp='None', sources='A vertical line drawn at 273 K marks the RTSC limit. Inset: pressure dependence of Tc for the 6 different samples', reasoning='There is no specific material or critical temperature provided in the text.'))"
      ]
     },
     "execution_count": 63,
     "metadata": {},
     "output_type": "execute_result"
    }
   ],
   "source": [
    "rag_chain = (\n",
    "            {\"context\": retriever | format_docs, \"question\": RunnablePassthrough()}\n",
    "            | prompt_template\n",
    "            | llm.with_structured_output(ExtractedInfo, strict=True)\n",
    "        )\n",
    "\n",
    "rag_chain.invoke(\"Give me a summary of the research paper, the material used (chemical formula), and the critical temperature, with its unit.\")"
   ]
  },
  {
   "cell_type": "code",
   "execution_count": 74,
   "metadata": {},
   "outputs": [
    {
     "data": {
      "text/plain": [
       "ExtractedInfo(paper_summary=StrWithSources(answer='The research paper discusses the quest for room temperature superconductivity (RTSC) and highlights the importance of theoretical predictions for high temperature superconductors. It emphasizes the significance of experiments on yttrium super hydrides and mentions an encouraging discovery of superconductivity in Q-carbon with a critical temperature of approximately 55 K.', sources='The quest for room temperature superconductivity is a longstanding challenge... One encouraging example is the discovery of superconductivity with Tc \\uf040 55 K in Q-carbon26.', reasoning='The summary focuses on the ongoing research and discoveries related to superconductivity, particularly at room temperature, mentioning specific materials and their critical temperatures.'), transition_temp=TransitionTemp(material='Q-carbon', critical_temp='55 K', sources='One encouraging example is the discovery of superconductivity with Tc \\uf040 55 K in Q-carbon26.', reasoning='The material is specified as Q-carbon with its corresponding critical temperature of 55 K directly quoted from the text.'))"
      ]
     },
     "execution_count": 74,
     "metadata": {},
     "output_type": "execute_result"
    }
   ],
   "source": [
    "# do the same using this context:\n",
    "manual_context = \"\"\"\n",
    "The discovery of superconductivity at 203 K in H3S\n",
    "1 brought attention back to conventional\n",
    "superconductors whose properties can be described by the Bardeen-Cooper-Schrieffer (BCS) and\n",
    "the Migdal-Eliashberg theories. These theories predict that high, and even room temperature\n",
    "superconductivity (RTSC) is possible in metals possessing certain favorable parameters such as\n",
    "lattice vibrations at high frequencies. However, these general theories do not suffice to predict\n",
    "real superconductors. New superconducting materials can be predicted now with the aid of first\n",
    "principles calculations based on Density Functional Theory (DFT). In particular, the calculations\n",
    "suggested a new family of hydrides possessing a clathrate structure, where the host atom (Ca, Y,\n",
    "La) is at the center of the cage formed by hydrogen atoms2-4\n",
    ". For LaH10 and YH10\n",
    "superconductivity, with critical temperatures Tc ranging between 240 and 320 K is predicted at\n",
    "megabar pressures3-6\n",
    ". Here, we report superconductivity with a record Tc  250 K within the\n",
    "Fm3m structure of LaH10 at a pressure P  170 GPa. We proved the existence of superconductivity\n",
    "at 250 K through the observation of zero-resistance, isotope effect, and the decrease of Tc under\n",
    "an external magnetic field, which suggests an upper critical magnetic field of 120 T at zerotemperature. The pressure dependence of the transition temperatures Tc (P) has a maximum of\n",
    "250-252 K at the pressure of about 170 GPa. This leap, by  50 K, from the previous Tc record of\n",
    "203 K1\n",
    "indicates the real possibility of achieving RTSC (that is at 273 K) in the near future at high\n",
    "pressures and the perspective of conventional superconductivity at ambient pressure.\n",
    "\"\"\"\n",
    "\n",
    "# get structured output with the manual context and the same question\n",
    "rag_chain.invoke(\"Give me a summary of the research paper, the material used (chemical formula), and the critical temperature, with its unit.\", context=manual_context)\n",
    "\n",
    "# this isn't structured output - fix please\n",
    "llm_struc = llm.with_structured_output(ExtractedInfo, strict=True)\n",
    "\n",
    "rag_chain = (\n",
    "            {\"context\": retriever | format_docs, \"question\": RunnablePassthrough()}\n",
    "            | prompt_template\n",
    "            | llm_struc\n",
    "        )\n",
    "\n",
    "rag_chain.invoke(\"Give me a summary of the research paper, the material used (chemical formula), and the critical temperature, with its unit.\")"
   ]
  },
  {
   "cell_type": "code",
   "execution_count": null,
   "metadata": {},
   "outputs": [
    {
     "ename": "TypeError",
     "evalue": "Expected a Runnable, callable or dict.Instead got an unsupported type: <class 'str'>",
     "output_type": "error",
     "traceback": [
      "\u001b[1;31m---------------------------------------------------------------------------\u001b[0m",
      "\u001b[1;31mTypeError\u001b[0m                                 Traceback (most recent call last)",
      "Cell \u001b[1;32mIn[72], line 3\u001b[0m\n\u001b[0;32m      1\u001b[0m \u001b[38;5;66;03m# invoke the chain with the manual context\u001b[39;00m\n\u001b[0;32m      2\u001b[0m rag_chain_manual \u001b[38;5;241m=\u001b[39m (\n\u001b[1;32m----> 3\u001b[0m             \u001b[43m{\u001b[49m\u001b[38;5;124;43m\"\u001b[39;49m\u001b[38;5;124;43mcontext\u001b[39;49m\u001b[38;5;124;43m\"\u001b[39;49m\u001b[43m:\u001b[49m\u001b[43m \u001b[49m\u001b[43mmanual_context\u001b[49m\u001b[43m,\u001b[49m\u001b[43m \u001b[49m\u001b[38;5;124;43m\"\u001b[39;49m\u001b[38;5;124;43mquestion\u001b[39;49m\u001b[38;5;124;43m\"\u001b[39;49m\u001b[43m:\u001b[49m\u001b[43m \u001b[49m\u001b[43mRunnablePassthrough\u001b[49m\u001b[43m(\u001b[49m\u001b[43m)\u001b[49m\u001b[43m}\u001b[49m\n\u001b[0;32m      4\u001b[0m \u001b[43m            \u001b[49m\u001b[38;5;241;43m|\u001b[39;49m\u001b[43m \u001b[49m\u001b[43mprompt_template\u001b[49m\n\u001b[0;32m      5\u001b[0m             \u001b[38;5;241m|\u001b[39m llm\u001b[38;5;241m.\u001b[39mwith_structured_output(ExtractedInfo, strict\u001b[38;5;241m=\u001b[39m\u001b[38;5;28;01mTrue\u001b[39;00m)\n\u001b[0;32m      6\u001b[0m         )\n\u001b[0;32m      8\u001b[0m rag_chain_manual\u001b[38;5;241m.\u001b[39minvoke(\u001b[38;5;124m\"\u001b[39m\u001b[38;5;124mGive me a summary of the research paper, the material used (chemical formula), and the critical temperature, with its unit.\u001b[39m\u001b[38;5;124m\"\u001b[39m)\n",
      "File \u001b[1;32mc:\\Users\\mihir\\Documents\\Oxford Physics\\Superconductors\\MPhys\\Python\\.venv\\Lib\\site-packages\\langchain_core\\runnables\\base.py:589\u001b[0m, in \u001b[0;36mRunnable.__ror__\u001b[1;34m(self, other)\u001b[0m\n\u001b[0;32m    579\u001b[0m \u001b[38;5;28;01mdef\u001b[39;00m \u001b[38;5;21m__ror__\u001b[39m(\n\u001b[0;32m    580\u001b[0m     \u001b[38;5;28mself\u001b[39m,\n\u001b[0;32m    581\u001b[0m     other: Union[\n\u001b[1;32m   (...)\u001b[0m\n\u001b[0;32m    586\u001b[0m     ],\n\u001b[0;32m    587\u001b[0m ) \u001b[38;5;241m-\u001b[39m\u001b[38;5;241m>\u001b[39m RunnableSerializable[Other, Output]:\n\u001b[0;32m    588\u001b[0m \u001b[38;5;250m    \u001b[39m\u001b[38;5;124;03m\"\"\"Compose this Runnable with another object to create a RunnableSequence.\"\"\"\u001b[39;00m\n\u001b[1;32m--> 589\u001b[0m     \u001b[38;5;28;01mreturn\u001b[39;00m RunnableSequence(\u001b[43mcoerce_to_runnable\u001b[49m\u001b[43m(\u001b[49m\u001b[43mother\u001b[49m\u001b[43m)\u001b[49m, \u001b[38;5;28mself\u001b[39m)\n",
      "File \u001b[1;32mc:\\Users\\mihir\\Documents\\Oxford Physics\\Superconductors\\MPhys\\Python\\.venv\\Lib\\site-packages\\langchain_core\\runnables\\base.py:5837\u001b[0m, in \u001b[0;36mcoerce_to_runnable\u001b[1;34m(thing)\u001b[0m\n\u001b[0;32m   5835\u001b[0m     \u001b[38;5;28;01mreturn\u001b[39;00m RunnableLambda(cast(Callable[[Input], Output], thing))\n\u001b[0;32m   5836\u001b[0m \u001b[38;5;28;01melif\u001b[39;00m \u001b[38;5;28misinstance\u001b[39m(thing, \u001b[38;5;28mdict\u001b[39m):\n\u001b[1;32m-> 5837\u001b[0m     \u001b[38;5;28;01mreturn\u001b[39;00m cast(Runnable[Input, Output], \u001b[43mRunnableParallel\u001b[49m\u001b[43m(\u001b[49m\u001b[43mthing\u001b[49m\u001b[43m)\u001b[49m)\n\u001b[0;32m   5838\u001b[0m \u001b[38;5;28;01melse\u001b[39;00m:\n\u001b[0;32m   5839\u001b[0m     msg \u001b[38;5;241m=\u001b[39m (\n\u001b[0;32m   5840\u001b[0m         \u001b[38;5;124mf\u001b[39m\u001b[38;5;124m\"\u001b[39m\u001b[38;5;124mExpected a Runnable, callable or dict.\u001b[39m\u001b[38;5;124m\"\u001b[39m\n\u001b[0;32m   5841\u001b[0m         \u001b[38;5;124mf\u001b[39m\u001b[38;5;124m\"\u001b[39m\u001b[38;5;124mInstead got an unsupported type: \u001b[39m\u001b[38;5;132;01m{\u001b[39;00m\u001b[38;5;28mtype\u001b[39m(thing)\u001b[38;5;132;01m}\u001b[39;00m\u001b[38;5;124m\"\u001b[39m\n\u001b[0;32m   5842\u001b[0m     )\n",
      "File \u001b[1;32mc:\\Users\\mihir\\Documents\\Oxford Physics\\Superconductors\\MPhys\\Python\\.venv\\Lib\\site-packages\\langchain_core\\runnables\\base.py:3539\u001b[0m, in \u001b[0;36mRunnableParallel.__init__\u001b[1;34m(self, steps__, **kwargs)\u001b[0m\n\u001b[0;32m   3536\u001b[0m merged \u001b[38;5;241m=\u001b[39m {\u001b[38;5;241m*\u001b[39m\u001b[38;5;241m*\u001b[39msteps__} \u001b[38;5;28;01mif\u001b[39;00m steps__ \u001b[38;5;129;01mis\u001b[39;00m \u001b[38;5;129;01mnot\u001b[39;00m \u001b[38;5;28;01mNone\u001b[39;00m \u001b[38;5;28;01melse\u001b[39;00m {}\n\u001b[0;32m   3537\u001b[0m merged\u001b[38;5;241m.\u001b[39mupdate(kwargs)\n\u001b[0;32m   3538\u001b[0m \u001b[38;5;28msuper\u001b[39m()\u001b[38;5;241m.\u001b[39m\u001b[38;5;21m__init__\u001b[39m(  \u001b[38;5;66;03m# type: ignore[call-arg]\u001b[39;00m\n\u001b[1;32m-> 3539\u001b[0m     steps__\u001b[38;5;241m=\u001b[39m{key: \u001b[43mcoerce_to_runnable\u001b[49m\u001b[43m(\u001b[49m\u001b[43mr\u001b[49m\u001b[43m)\u001b[49m \u001b[38;5;28;01mfor\u001b[39;00m key, r \u001b[38;5;129;01min\u001b[39;00m merged\u001b[38;5;241m.\u001b[39mitems()}\n\u001b[0;32m   3540\u001b[0m )\n",
      "File \u001b[1;32mc:\\Users\\mihir\\Documents\\Oxford Physics\\Superconductors\\MPhys\\Python\\.venv\\Lib\\site-packages\\langchain_core\\runnables\\base.py:5843\u001b[0m, in \u001b[0;36mcoerce_to_runnable\u001b[1;34m(thing)\u001b[0m\n\u001b[0;32m   5838\u001b[0m \u001b[38;5;28;01melse\u001b[39;00m:\n\u001b[0;32m   5839\u001b[0m     msg \u001b[38;5;241m=\u001b[39m (\n\u001b[0;32m   5840\u001b[0m         \u001b[38;5;124mf\u001b[39m\u001b[38;5;124m\"\u001b[39m\u001b[38;5;124mExpected a Runnable, callable or dict.\u001b[39m\u001b[38;5;124m\"\u001b[39m\n\u001b[0;32m   5841\u001b[0m         \u001b[38;5;124mf\u001b[39m\u001b[38;5;124m\"\u001b[39m\u001b[38;5;124mInstead got an unsupported type: \u001b[39m\u001b[38;5;132;01m{\u001b[39;00m\u001b[38;5;28mtype\u001b[39m(thing)\u001b[38;5;132;01m}\u001b[39;00m\u001b[38;5;124m\"\u001b[39m\n\u001b[0;32m   5842\u001b[0m     )\n\u001b[1;32m-> 5843\u001b[0m     \u001b[38;5;28;01mraise\u001b[39;00m \u001b[38;5;167;01mTypeError\u001b[39;00m(msg)\n",
      "\u001b[1;31mTypeError\u001b[0m: Expected a Runnable, callable or dict.Instead got an unsupported type: <class 'str'>"
     ]
    }
   ],
   "source": [
    "\n",
    "# make manual_context_dict \n",
    "manual_context_dict = {\"paper_summary\": manual_page, \"transition_temp\": manual_page}\n",
    "# invoke the chain with the manual context\n",
    "rag_chain_manual = (\n",
    "            {\"context\": manual_context, \"question\": RunnablePassthrough()}\n",
    "            | prompt_template\n",
    "            | llm.with_structured_output(ExtractedInfo, strict=True)\n",
    "        )\n",
    "\n",
    "rag_chain_manual.invoke(\"Give me a summary of the research paper, the material used (chemical formula), and the critical temperature, with its unit.\")\n"
   ]
  }
 ],
 "metadata": {
  "kernelspec": {
   "display_name": ".venv",
   "language": "python",
   "name": "python3"
  },
  "language_info": {
   "codemirror_mode": {
    "name": "ipython",
    "version": 3
   },
   "file_extension": ".py",
   "mimetype": "text/x-python",
   "name": "python",
   "nbconvert_exporter": "python",
   "pygments_lexer": "ipython3",
   "version": "3.12.7"
  }
 },
 "nbformat": 4,
 "nbformat_minor": 2
}
